{
  "cells": [
    {
      "cell_type": "code",
      "execution_count": null,
      "metadata": {
        "colab": {
          "base_uri": "https://localhost:8080/"
        },
        "id": "Iw-RXA52jUGI",
        "outputId": "5d0e5761-1b21-4de0-fb03-9766c85e3f19"
      },
      "outputs": [
        {
          "output_type": "stream",
          "name": "stdout",
          "text": [
            "Requirement already satisfied: faiss-cpu in /usr/local/lib/python3.11/dist-packages (1.10.0)\n",
            "Requirement already satisfied: numpy<3.0,>=1.25.0 in /usr/local/lib/python3.11/dist-packages (from faiss-cpu) (2.0.2)\n",
            "Requirement already satisfied: packaging in /usr/local/lib/python3.11/dist-packages (from faiss-cpu) (24.2)\n",
            "Requirement already satisfied: sentence-transformers in /usr/local/lib/python3.11/dist-packages (3.4.1)\n",
            "Requirement already satisfied: transformers<5.0.0,>=4.41.0 in /usr/local/lib/python3.11/dist-packages (from sentence-transformers) (4.51.1)\n",
            "Requirement already satisfied: tqdm in /usr/local/lib/python3.11/dist-packages (from sentence-transformers) (4.67.1)\n",
            "Requirement already satisfied: torch>=1.11.0 in /usr/local/lib/python3.11/dist-packages (from sentence-transformers) (2.6.0+cu124)\n",
            "Requirement already satisfied: scikit-learn in /usr/local/lib/python3.11/dist-packages (from sentence-transformers) (1.6.1)\n",
            "Requirement already satisfied: scipy in /usr/local/lib/python3.11/dist-packages (from sentence-transformers) (1.14.1)\n",
            "Requirement already satisfied: huggingface-hub>=0.20.0 in /usr/local/lib/python3.11/dist-packages (from sentence-transformers) (0.30.2)\n",
            "Requirement already satisfied: Pillow in /usr/local/lib/python3.11/dist-packages (from sentence-transformers) (11.1.0)\n",
            "Requirement already satisfied: filelock in /usr/local/lib/python3.11/dist-packages (from huggingface-hub>=0.20.0->sentence-transformers) (3.18.0)\n",
            "Requirement already satisfied: fsspec>=2023.5.0 in /usr/local/lib/python3.11/dist-packages (from huggingface-hub>=0.20.0->sentence-transformers) (2025.3.2)\n",
            "Requirement already satisfied: packaging>=20.9 in /usr/local/lib/python3.11/dist-packages (from huggingface-hub>=0.20.0->sentence-transformers) (24.2)\n",
            "Requirement already satisfied: pyyaml>=5.1 in /usr/local/lib/python3.11/dist-packages (from huggingface-hub>=0.20.0->sentence-transformers) (6.0.2)\n",
            "Requirement already satisfied: requests in /usr/local/lib/python3.11/dist-packages (from huggingface-hub>=0.20.0->sentence-transformers) (2.32.3)\n",
            "Requirement already satisfied: typing-extensions>=3.7.4.3 in /usr/local/lib/python3.11/dist-packages (from huggingface-hub>=0.20.0->sentence-transformers) (4.13.1)\n",
            "Requirement already satisfied: networkx in /usr/local/lib/python3.11/dist-packages (from torch>=1.11.0->sentence-transformers) (3.4.2)\n",
            "Requirement already satisfied: jinja2 in /usr/local/lib/python3.11/dist-packages (from torch>=1.11.0->sentence-transformers) (3.1.6)\n",
            "Requirement already satisfied: nvidia-cuda-nvrtc-cu12==12.4.127 in /usr/local/lib/python3.11/dist-packages (from torch>=1.11.0->sentence-transformers) (12.4.127)\n",
            "Requirement already satisfied: nvidia-cuda-runtime-cu12==12.4.127 in /usr/local/lib/python3.11/dist-packages (from torch>=1.11.0->sentence-transformers) (12.4.127)\n",
            "Requirement already satisfied: nvidia-cuda-cupti-cu12==12.4.127 in /usr/local/lib/python3.11/dist-packages (from torch>=1.11.0->sentence-transformers) (12.4.127)\n",
            "Requirement already satisfied: nvidia-cudnn-cu12==9.1.0.70 in /usr/local/lib/python3.11/dist-packages (from torch>=1.11.0->sentence-transformers) (9.1.0.70)\n",
            "Requirement already satisfied: nvidia-cublas-cu12==12.4.5.8 in /usr/local/lib/python3.11/dist-packages (from torch>=1.11.0->sentence-transformers) (12.4.5.8)\n",
            "Requirement already satisfied: nvidia-cufft-cu12==11.2.1.3 in /usr/local/lib/python3.11/dist-packages (from torch>=1.11.0->sentence-transformers) (11.2.1.3)\n",
            "Requirement already satisfied: nvidia-curand-cu12==10.3.5.147 in /usr/local/lib/python3.11/dist-packages (from torch>=1.11.0->sentence-transformers) (10.3.5.147)\n",
            "Requirement already satisfied: nvidia-cusolver-cu12==11.6.1.9 in /usr/local/lib/python3.11/dist-packages (from torch>=1.11.0->sentence-transformers) (11.6.1.9)\n",
            "Requirement already satisfied: nvidia-cusparse-cu12==12.3.1.170 in /usr/local/lib/python3.11/dist-packages (from torch>=1.11.0->sentence-transformers) (12.3.1.170)\n",
            "Requirement already satisfied: nvidia-cusparselt-cu12==0.6.2 in /usr/local/lib/python3.11/dist-packages (from torch>=1.11.0->sentence-transformers) (0.6.2)\n",
            "Requirement already satisfied: nvidia-nccl-cu12==2.21.5 in /usr/local/lib/python3.11/dist-packages (from torch>=1.11.0->sentence-transformers) (2.21.5)\n",
            "Requirement already satisfied: nvidia-nvtx-cu12==12.4.127 in /usr/local/lib/python3.11/dist-packages (from torch>=1.11.0->sentence-transformers) (12.4.127)\n",
            "Requirement already satisfied: nvidia-nvjitlink-cu12==12.4.127 in /usr/local/lib/python3.11/dist-packages (from torch>=1.11.0->sentence-transformers) (12.4.127)\n",
            "Requirement already satisfied: triton==3.2.0 in /usr/local/lib/python3.11/dist-packages (from torch>=1.11.0->sentence-transformers) (3.2.0)\n",
            "Requirement already satisfied: sympy==1.13.1 in /usr/local/lib/python3.11/dist-packages (from torch>=1.11.0->sentence-transformers) (1.13.1)\n",
            "Requirement already satisfied: mpmath<1.4,>=1.1.0 in /usr/local/lib/python3.11/dist-packages (from sympy==1.13.1->torch>=1.11.0->sentence-transformers) (1.3.0)\n",
            "Requirement already satisfied: numpy>=1.17 in /usr/local/lib/python3.11/dist-packages (from transformers<5.0.0,>=4.41.0->sentence-transformers) (2.0.2)\n",
            "Requirement already satisfied: regex!=2019.12.17 in /usr/local/lib/python3.11/dist-packages (from transformers<5.0.0,>=4.41.0->sentence-transformers) (2024.11.6)\n",
            "Requirement already satisfied: tokenizers<0.22,>=0.21 in /usr/local/lib/python3.11/dist-packages (from transformers<5.0.0,>=4.41.0->sentence-transformers) (0.21.1)\n",
            "Requirement already satisfied: safetensors>=0.4.3 in /usr/local/lib/python3.11/dist-packages (from transformers<5.0.0,>=4.41.0->sentence-transformers) (0.5.3)\n",
            "Requirement already satisfied: joblib>=1.2.0 in /usr/local/lib/python3.11/dist-packages (from scikit-learn->sentence-transformers) (1.4.2)\n",
            "Requirement already satisfied: threadpoolctl>=3.1.0 in /usr/local/lib/python3.11/dist-packages (from scikit-learn->sentence-transformers) (3.6.0)\n",
            "Requirement already satisfied: MarkupSafe>=2.0 in /usr/local/lib/python3.11/dist-packages (from jinja2->torch>=1.11.0->sentence-transformers) (3.0.2)\n",
            "Requirement already satisfied: charset-normalizer<4,>=2 in /usr/local/lib/python3.11/dist-packages (from requests->huggingface-hub>=0.20.0->sentence-transformers) (3.4.1)\n",
            "Requirement already satisfied: idna<4,>=2.5 in /usr/local/lib/python3.11/dist-packages (from requests->huggingface-hub>=0.20.0->sentence-transformers) (3.10)\n",
            "Requirement already satisfied: urllib3<3,>=1.21.1 in /usr/local/lib/python3.11/dist-packages (from requests->huggingface-hub>=0.20.0->sentence-transformers) (2.3.0)\n",
            "Requirement already satisfied: certifi>=2017.4.17 in /usr/local/lib/python3.11/dist-packages (from requests->huggingface-hub>=0.20.0->sentence-transformers) (2025.1.31)\n"
          ]
        },
        {
          "output_type": "stream",
          "name": "stderr",
          "text": [
            "[nltk_data] Downloading package punkt_tab to /root/nltk_data...\n",
            "[nltk_data]   Package punkt_tab is already up-to-date!\n"
          ]
        },
        {
          "output_type": "execute_result",
          "data": {
            "text/plain": [
              "True"
            ]
          },
          "metadata": {},
          "execution_count": 2
        }
      ],
      "source": [
        "# Import necessary libraries\n",
        "\n",
        "import json\n",
        "import joblib\n",
        "from collections import defaultdict\n",
        "from sentence_transformers import SentenceTransformer\n",
        "import numpy as np\n",
        "!pip install faiss-cpu\n",
        "!pip install sentence-transformers\n",
        "import faiss\n",
        "import scipy.sparse\n",
        "\n",
        "from sklearn.feature_extraction.text import TfidfVectorizer\n",
        "from sklearn.metrics.pairwise import cosine_similarity\n",
        "\n",
        "\n",
        "import nltk\n",
        "from nltk.tokenize import word_tokenize\n",
        "\n",
        "nltk.download('punkt_tab')"
      ]
    },
    {
      "cell_type": "markdown",
      "source": [],
      "metadata": {
        "id": "_e_08A8Wjv94"
      }
    },
    {
      "cell_type": "markdown",
      "metadata": {
        "id": "dFzaBpuCjUGQ"
      },
      "source": [
        "## Step 1: Join business dataset with reviews dataset. Tokenize reviews and convert to lowercase"
      ]
    },
    {
      "cell_type": "code",
      "execution_count": null,
      "metadata": {
        "colab": {
          "base_uri": "https://localhost:8080/",
          "height": 216
        },
        "id": "twWM8H4PjUGR",
        "outputId": "42b1100e-db14-4ac6-a1ed-4e5aa48f3eb4"
      },
      "outputs": [
        {
          "output_type": "error",
          "ename": "FileNotFoundError",
          "evalue": "[Errno 2] No such file or directory: 'yelp_academic_dataset_review.json'",
          "traceback": [
            "\u001b[0;31m---------------------------------------------------------------------------\u001b[0m",
            "\u001b[0;31mFileNotFoundError\u001b[0m                         Traceback (most recent call last)",
            "\u001b[0;32m<ipython-input-3-1d288924ca7d>\u001b[0m in \u001b[0;36m<cell line: 0>\u001b[0;34m()\u001b[0m\n\u001b[1;32m      2\u001b[0m \u001b[0mbusiness_information\u001b[0m \u001b[0;34m=\u001b[0m \u001b[0mdefaultdict\u001b[0m\u001b[0;34m(\u001b[0m\u001b[0;32mlambda\u001b[0m\u001b[0;34m:\u001b[0m \u001b[0;34m{\u001b[0m\u001b[0;34m\"reviews\"\u001b[0m\u001b[0;34m:\u001b[0m \u001b[0;34m[\u001b[0m\u001b[0;34m]\u001b[0m\u001b[0;34m}\u001b[0m\u001b[0;34m)\u001b[0m\u001b[0;34m\u001b[0m\u001b[0;34m\u001b[0m\u001b[0m\n\u001b[1;32m      3\u001b[0m \u001b[0;34m\u001b[0m\u001b[0m\n\u001b[0;32m----> 4\u001b[0;31m \u001b[0;32mwith\u001b[0m \u001b[0mopen\u001b[0m\u001b[0;34m(\u001b[0m\u001b[0;34m\"yelp_academic_dataset_review.json\"\u001b[0m\u001b[0;34m,\u001b[0m \u001b[0;34m\"r\"\u001b[0m\u001b[0;34m,\u001b[0m \u001b[0mencoding\u001b[0m\u001b[0;34m=\u001b[0m\u001b[0;34m\"utf-8\"\u001b[0m\u001b[0;34m)\u001b[0m \u001b[0;32mas\u001b[0m \u001b[0mfile\u001b[0m\u001b[0;34m:\u001b[0m\u001b[0;34m\u001b[0m\u001b[0;34m\u001b[0m\u001b[0m\n\u001b[0m\u001b[1;32m      5\u001b[0m \u001b[0;34m\u001b[0m\u001b[0m\n\u001b[1;32m      6\u001b[0m     \u001b[0;32mfor\u001b[0m \u001b[0mline\u001b[0m \u001b[0;32min\u001b[0m \u001b[0mfile\u001b[0m\u001b[0;34m:\u001b[0m\u001b[0;34m\u001b[0m\u001b[0;34m\u001b[0m\u001b[0m\n",
            "\u001b[0;31mFileNotFoundError\u001b[0m: [Errno 2] No such file or directory: 'yelp_academic_dataset_review.json'"
          ]
        }
      ],
      "source": [
        "# Store reviews for each business\n",
        "business_information = defaultdict(lambda: {\"reviews\": []})\n",
        "\n",
        "with open(\"yelp_academic_dataset_review.json\", \"r\", encoding=\"utf-8\") as file:\n",
        "\n",
        "    for line in file:\n",
        "\n",
        "        curr = json.loads(line)\n",
        "        business_information[curr[\"business_id\"]][\"reviews\"].append(curr[\"text\"])"
      ]
    },
    {
      "cell_type": "code",
      "execution_count": null,
      "metadata": {
        "id": "Yl00_y1EjUGR"
      },
      "outputs": [],
      "source": [
        "# Extract business-specific data and store in dictionary\n",
        "with open(\"yelp_academic_dataset_business.json\", \"r\", encoding=\"utf-8\") as file:\n",
        "\n",
        "    for line in file:\n",
        "\n",
        "        curr = json.loads(line)\n",
        "        business_information[curr[\"business_id\"]][\"name\"] = curr[\"name\"]\n",
        "        business_information[curr[\"business_id\"]][\"address\"] = curr[\"address\"]\n",
        "        business_information[curr[\"business_id\"]][\"city\"] = curr[\"city\"]\n",
        "        business_information[curr[\"business_id\"]][\"state\"] = curr[\"state\"]\n",
        "        business_information[curr[\"business_id\"]][\"stars\"] = curr[\"stars\"]\n"
      ]
    },
    {
      "cell_type": "code",
      "execution_count": null,
      "metadata": {
        "id": "wQlL0UbIjUGS"
      },
      "outputs": [],
      "source": [
        "# Tokenize reviews and convert all tokens to lowercase\n",
        "tokenized_business_information = defaultdict(lambda: {\"reviews\": []})\n",
        "\n",
        "for id_ in business_information.keys():\n",
        "\n",
        "    for review in business_information[id_][\"reviews\"]:\n",
        "\n",
        "        tokenized_business_information[id_][\"reviews\"].append([word.lower() for word in word_tokenize(review)])"
      ]
    },
    {
      "cell_type": "code",
      "execution_count": null,
      "metadata": {
        "id": "ID68aRtwjUGS"
      },
      "outputs": [],
      "source": [
        "# Write joined, tokenized business/review data to a file\n",
        "with open('business_with_reviews.json', 'w') as f:\n",
        "    for key, value in tokenized_business_information.items():\n",
        "        json.dump({key: value}, f)\n",
        "        f.write('\\n')"
      ]
    },
    {
      "cell_type": "markdown",
      "metadata": {
        "id": "7GCPmfaHjUGT"
      },
      "source": [
        "## Step 2: Output scores for TFIDF ranker"
      ]
    },
    {
      "cell_type": "code",
      "execution_count": null,
      "metadata": {
        "id": "Sz6YGJhSjUGT"
      },
      "outputs": [],
      "source": [
        "# Read in business reviews from JSON file\n",
        "business_reviews = dict()\n",
        "\n",
        "with open('business_with_reviews.json', 'r') as f:\n",
        "\n",
        "    for line in f:\n",
        "\n",
        "        record = json.loads(line)\n",
        "        business_reviews.update(record)"
      ]
    },
    {
      "cell_type": "code",
      "execution_count": null,
      "metadata": {
        "id": "GMNxtQanjUGT"
      },
      "outputs": [],
      "source": [
        "# Test one query on the entire dataset, check results\n",
        "business_ids = list(business_reviews.keys())\n",
        "corpus = []\n",
        "for id_ in business_ids:\n",
        "\n",
        "    # Each business review is condensed down into a single, long sentence\n",
        "    # so that TFIDF and other embedding techniques could be applied\n",
        "    corpus.append(\" \".join(\" \".join(tokens) for tokens in business_reviews[id_][\"reviews\"]))"
      ]
    },
    {
      "cell_type": "code",
      "execution_count": null,
      "metadata": {
        "id": "PiJ14Qs9jUGT"
      },
      "outputs": [],
      "source": [
        "# Create TFIDF vector and train vectorizer\n",
        "vectorizer = TfidfVectorizer()\n",
        "tfidf_matrix = vectorizer.fit_transform(corpus)\n",
        "\n",
        "# Persist vector and model, and ids\n",
        "joblib.dump(vectorizer, 'tfidf_vectorizer.joblib')\n",
        "scipy.sparse.save_npz(\"tfidf_matrix.npz\", tfidf_matrix)\n",
        "with open(\"business_ids.json\", \"w\") as f: json.dump(business_ids, f)"
      ]
    },
    {
      "cell_type": "code",
      "execution_count": null,
      "metadata": {
        "id": "mG7MtjTnjUGU"
      },
      "outputs": [],
      "source": [
        "# Reinitialize vectorizer and tfidf_matrix if session is lost\n",
        "vectorizer = joblib.load('tfidf_vectorizer.joblib')\n",
        "tfidf_matrix = scipy.sparse.load_npz(\"tfidf_matrix.npz\")\n",
        "with open(\"business_ids.json\") as f: business_ids = json.load(f)"
      ]
    },
    {
      "cell_type": "code",
      "execution_count": null,
      "metadata": {
        "id": "d7jk1WLSjUGU"
      },
      "outputs": [],
      "source": [
        "# Transform query so that it fits into TFIDF vector space\n",
        "query = \"cafe with great lattes in san francisco\"\n",
        "query_vec = vectorizer.transform([query])\n",
        "\n",
        "# Use cosine similarity to find most similar document for the query\n",
        "similarities = cosine_similarity(query_vec, tfidf_matrix).flatten()"
      ]
    },
    {
      "cell_type": "code",
      "execution_count": null,
      "metadata": {
        "id": "KixIhz0HjUGU"
      },
      "outputs": [],
      "source": [
        "# Match up business ids with similarity scores\n",
        "scores = []\n",
        "\n",
        "n = len(business_ids)\n",
        "for i in range(n): scores.append((business_ids[i], similarities[i]))\n",
        "\n",
        "# Sort based on score; sort in descending order\n",
        "scores.sort(key = lambda x: x[1], reverse=True)"
      ]
    },
    {
      "cell_type": "code",
      "execution_count": null,
      "metadata": {
        "id": "T0e8RvKyjUGV"
      },
      "outputs": [],
      "source": [
        "# Print out top 10 results\n",
        "for id, _ in scores[:10]:\n",
        "\n",
        "    print(business_information[id][\"name\"])"
      ]
    },
    {
      "cell_type": "markdown",
      "metadata": {
        "id": "LrCkG5zxjUGV"
      },
      "source": [
        "## Step 3: Create/Store Embeddings and Use FAISS to generate scores, Compare to token-matching ranker"
      ]
    },
    {
      "cell_type": "code",
      "execution_count": null,
      "metadata": {
        "id": "9veVBR7BjUGV"
      },
      "outputs": [],
      "source": [
        "# Use transformer architecture to create dense vector embeddings\n",
        "# from query and restaurant reviews\n",
        "# all = general purpose transformer\n",
        "# MiniLM = lightweight transformer similar to BERT\n",
        "# L6 = six layers\n",
        "# v2 = version two\n",
        "model = SentenceTransformer(\"all-MiniLM-L6-v2\")\n",
        "\n",
        "# Create embeddings from the reviews\n",
        "embeddings = model.encode(corpus, convert_to_numpy=True)\n",
        "dimension = embeddings.shape[1]\n",
        "\n",
        "# Create FAISS index for similarity search\n",
        "index = faiss.IndexFlatL2(dimension)\n",
        "index.add(embeddings)"
      ]
    },
    {
      "cell_type": "code",
      "execution_count": null,
      "metadata": {
        "id": "RkKJfsmbjUGW"
      },
      "outputs": [],
      "source": [
        "# Persist embeddings to file\n",
        "np.savez(\"transformer_embeddings.npz\", ids=business_ids, vectors=embeddings)"
      ]
    },
    {
      "cell_type": "code",
      "execution_count": null,
      "metadata": {
        "id": "kDjH2VcYjUGW"
      },
      "outputs": [],
      "source": [
        "# Read embeddings back into matrix if session is lost\n",
        "\n",
        "data = np.load(\"transformer_embeddings.npz\", allow_pickle=True)\n",
        "business_ids = data[\"ids\"].tolist()\n",
        "embeddings = data[\"vectors\"]"
      ]
    },
    {
      "cell_type": "code",
      "execution_count": null,
      "metadata": {
        "id": "epxRuEInjUGW"
      },
      "outputs": [],
      "source": [
        "# Persist index to file\n",
        "faiss.write_index(index, \"business_index.faiss\")"
      ]
    },
    {
      "cell_type": "code",
      "execution_count": null,
      "metadata": {
        "id": "bqZztObtjUGW"
      },
      "outputs": [],
      "source": [
        "# Read index back from file if session is lost\n",
        "index = faiss.read_index(\"business_index.faiss\")"
      ]
    },
    {
      "cell_type": "code",
      "execution_count": null,
      "metadata": {
        "id": "3MTiS91ejUGW"
      },
      "outputs": [],
      "source": [
        "# Check results of test query\n",
        "query = \"cafe with great lattes in san francisco\"\n",
        "query_vec = model.encode([query], convert_to_numpy=True)\n",
        "\n",
        "# Get top k results\n",
        "k = 50\n",
        "D, I = index.search(query_vec, k)\n",
        "top_businesses = [business_ids[i] for i in I[0]]\n",
        "\n",
        "for id in top_businesses:\n",
        "\n",
        "    print(business_information[id][\"name\"])"
      ]
    },
    {
      "cell_type": "markdown",
      "source": [
        "**Ratings Ranks**"
      ],
      "metadata": {
        "id": "27NU2ykgjxZS"
      }
    },
    {
      "cell_type": "code",
      "source": [
        "def apply_rating_penalty(avg_rating, threshold,curve=\"linear\", param = 1):\n",
        "    diff = max(0.0, threshold - avg_rating)\n",
        "    #percentage difference\n",
        "    scale = diff / threshold\n",
        "\n",
        "    scale = scale * param\n",
        "\n",
        "    if curve == \"linear\":\n",
        "        return 1.0 - scale\n",
        "    elif curve == \"square\":\n",
        "        return 1.0 - scale**2\n",
        "    elif curve == \"exp\":\n",
        "        return np.exp(-5 * scale)\n",
        "    else:\n",
        "        return 1.0  # No penalty\n"
      ],
      "metadata": {
        "id": "UVxOBYB7j2dK"
      },
      "execution_count": null,
      "outputs": []
    },
    {
      "cell_type": "code",
      "source": [
        "def rank_with_similarity_and_rankingpenalty(similarities, business_ids, business_information, threshold=3.0, curve=\"linear\",param = 1):\n",
        "    ranked = []\n",
        "\n",
        "    #for every business id\n",
        "    for i, bid in enumerate(business_ids):\n",
        "\n",
        "        avg_rating = business_information[bid].get(\"stars\", 0.0)\n",
        "\n",
        "        penalty_weight = apply_rating_penalty(avg_rating, threshold, curve,param)\n",
        "        adjusted_score = similarities[i] * penalty_weight\n",
        "        ranked.append((bid, adjusted_score))\n",
        "\n",
        "    ranked.sort(key=lambda x: x[1], reverse=True)\n",
        "\n",
        "    return ranked\n",
        "\n",
        "\n",
        "def get_map_100(ranked_list, ground_truth, relevant_label=\"highly\"):\n",
        "    relevant_found = 0\n",
        "    precision_total = 0.0\n",
        "\n",
        "    for i, (bid, _) in enumerate(ranked_list[:100]):\n",
        "        if ground_truth.get(bid) == relevant_label:\n",
        "            relevant_found += 1\n",
        "            precision_total += relevant_found / (i + 1)\n",
        "\n",
        "    return precision_total / relevant_found if relevant_found > 0 else 0.0\n"
      ],
      "metadata": {
        "id": "own4vtc6kNXW"
      },
      "execution_count": null,
      "outputs": []
    },
    {
      "cell_type": "code",
      "source": [
        "##Finding Optimal Params\n",
        "\n",
        "import pandas as pd\n",
        "\n",
        "curves = [\"linear\", \"square\", \"exp\"]\n",
        "params = [0.2, 0.5, 0.75, 1.0, 1.25, 1.5, 2.0]\n",
        "\n",
        "best_map = 0.0\n",
        "best_curve = None\n",
        "best_param = None\n",
        "\n",
        "results = []\n",
        "\n",
        "for curve in curves:\n",
        "    for param in params:\n",
        "        ranked_results = rank_with_similarity_and_rankingpenalty(\n",
        "            similarities,\n",
        "            business_ids,\n",
        "            business_information,\n",
        "            threshold=3.0,\n",
        "            curve=curve,\n",
        "            param=param\n",
        "        )\n",
        "\n",
        "        map_score = get_map_100(ranked_results,\n",
        "                                ground_truth_labels\n",
        "                                #need gt labels to make sure all results are checked properly\n",
        "                                )\n",
        "\n",
        "        results.append({\n",
        "            \"curve\": curve,\n",
        "            \"param\": param,\n",
        "            \"map@100\": map_score\n",
        "        })\n",
        "\n",
        "        print(f\"Curve: {curve}, Param: {param}, MAP@100: {map_score:.4f}\")\n",
        "\n",
        "        if map_score > best_map:\n",
        "            best_map = map_score\n",
        "            best_curve = curve\n",
        "            best_param = param\n",
        "\n",
        "# Convert results to DataFrame\n",
        "results_df = pd.DataFrame(results)\n",
        "\n",
        "# Print best config\n",
        "print(\"\\nBest configuration:\")\n",
        "print(f\"Curve: {best_curve}\")\n",
        "print(f\"Param: {best_param}\")\n",
        "print(f\"MAP@100: {best_map:.4f}\")\n"
      ],
      "metadata": {
        "id": "Emw2L2Rhbwnv"
      },
      "execution_count": null,
      "outputs": []
    },
    {
      "cell_type": "code",
      "source": [],
      "metadata": {
        "id": "lLlPlrHMh7zN"
      },
      "execution_count": null,
      "outputs": []
    },
    {
      "cell_type": "code",
      "source": [],
      "metadata": {
        "id": "MrcQXggPbzF7"
      },
      "execution_count": null,
      "outputs": []
    }
  ],
  "metadata": {
    "kernelspec": {
      "display_name": "Python 3",
      "language": "python",
      "name": "python3"
    },
    "language_info": {
      "codemirror_mode": {
        "name": "ipython",
        "version": 3
      },
      "file_extension": ".py",
      "mimetype": "text/x-python",
      "name": "python",
      "nbconvert_exporter": "python",
      "pygments_lexer": "ipython3",
      "version": "3.12.9"
    },
    "colab": {
      "provenance": []
    }
  },
  "nbformat": 4,
  "nbformat_minor": 0
}