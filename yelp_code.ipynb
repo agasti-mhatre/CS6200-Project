{
 "cells": [
  {
   "cell_type": "code",
   "execution_count": 55,
   "metadata": {},
   "outputs": [
    {
     "name": "stderr",
     "output_type": "stream",
     "text": [
      "[nltk_data] Downloading package punkt_tab to\n",
      "[nltk_data]     /Users/agastimhatre/nltk_data...\n",
      "[nltk_data]   Package punkt_tab is already up-to-date!\n"
     ]
    },
    {
     "data": {
      "text/plain": [
       "True"
      ]
     },
     "execution_count": 55,
     "metadata": {},
     "output_type": "execute_result"
    }
   ],
   "source": [
    "# Import necessary libraries\n",
    "\n",
    "import json\n",
    "import joblib\n",
    "from collections import defaultdict\n",
    "from sentence_transformers import SentenceTransformer\n",
    "import numpy as np\n",
    "import faiss\n",
    "import scipy.sparse\n",
    "\n",
    "from sklearn.feature_extraction.text import TfidfVectorizer\n",
    "from sklearn.metrics.pairwise import cosine_similarity\n",
    "\n",
    "\n",
    "import nltk\n",
    "from nltk.tokenize import word_tokenize\n",
    "\n",
    "nltk.download('punkt_tab')"
   ]
  },
  {
   "cell_type": "markdown",
   "metadata": {},
   "source": [
    "## Step 1: Join business dataset with reviews dataset. Tokenize reviews and convert to lowercase"
   ]
  },
  {
   "cell_type": "code",
   "execution_count": 43,
   "metadata": {},
   "outputs": [],
   "source": [
    "# Store reviews for each business\n",
    "business_information = defaultdict(lambda: {\"reviews\": []})\n",
    "\n",
    "with open(\"yelp_academic_dataset_review.json\", \"r\", encoding=\"utf-8\") as file:\n",
    "\n",
    "    for line in file: \n",
    "\n",
    "        curr = json.loads(line)\n",
    "        business_information[curr[\"business_id\"]][\"reviews\"].append(curr[\"text\"])"
   ]
  },
  {
   "cell_type": "code",
   "execution_count": 44,
   "metadata": {},
   "outputs": [],
   "source": [
    "# Extract business-specific data and store in dictionary\n",
    "with open(\"yelp_academic_dataset_business.json\", \"r\", encoding=\"utf-8\") as file:\n",
    "\n",
    "    for line in file:\n",
    "\n",
    "        curr = json.loads(line)\n",
    "        business_information[curr[\"business_id\"]][\"name\"] = curr[\"name\"]\n",
    "        business_information[curr[\"business_id\"]][\"address\"] = curr[\"address\"]\n",
    "        business_information[curr[\"business_id\"]][\"city\"] = curr[\"city\"]\n",
    "        business_information[curr[\"business_id\"]][\"state\"] = curr[\"state\"]\n"
   ]
  },
  {
   "cell_type": "code",
   "execution_count": null,
   "metadata": {},
   "outputs": [],
   "source": [
    "# Tokenize reviews and convert all tokens to lowercase\n",
    "tokenized_business_information = defaultdict(lambda: {\"reviews\": []})\n",
    "\n",
    "for id_ in business_information.keys():\n",
    "\n",
    "    for review in business_information[id_][\"reviews\"]:\n",
    "\n",
    "        tokenized_business_information[id_][\"reviews\"].append([word.lower() for word in word_tokenize(review)])"
   ]
  },
  {
   "cell_type": "code",
   "execution_count": null,
   "metadata": {},
   "outputs": [],
   "source": [
    "# Write joined, tokenized business/review data to a file\n",
    "with open('business_with_reviews.json', 'w') as f:\n",
    "    for key, value in tokenized_business_information.items():\n",
    "        json.dump({key: value}, f)\n",
    "        f.write('\\n')"
   ]
  },
  {
   "cell_type": "markdown",
   "metadata": {},
   "source": [
    "## Step 2: Output scores for TFIDF ranker"
   ]
  },
  {
   "cell_type": "code",
   "execution_count": null,
   "metadata": {},
   "outputs": [],
   "source": [
    "# Read in business reviews from JSON file\n",
    "business_reviews = dict()\n",
    "\n",
    "with open('business_with_reviews.json', 'r') as f:\n",
    "\n",
    "    for line in f:\n",
    "\n",
    "        record = json.loads(line)\n",
    "        business_reviews.update(record)"
   ]
  },
  {
   "cell_type": "code",
   "execution_count": null,
   "metadata": {},
   "outputs": [],
   "source": [
    "# Test one query on the entire dataset, check results\n",
    "business_ids = list(business_reviews.keys())\n",
    "corpus = []\n",
    "for id_ in business_ids:\n",
    "\n",
    "    # Each business review is condensed down into a single, long sentence\n",
    "    # so that TFIDF and other embedding techniques could be applied\n",
    "    corpus.append(\" \".join(\" \".join(tokens) for tokens in business_reviews[id_][\"reviews\"]))"
   ]
  },
  {
   "cell_type": "code",
   "execution_count": null,
   "metadata": {},
   "outputs": [],
   "source": [
    "# Create TFIDF vector and train vectorizer\n",
    "vectorizer = TfidfVectorizer()\n",
    "tfidf_matrix = vectorizer.fit_transform(corpus)\n",
    "\n",
    "# Persist vector and model\n",
    "joblib.dump(vectorizer, 'tfidf_vectorizer.joblib')\n",
    "scipy.sparse.save_npz(\"tfidf_matrix.npz\", tfidf_matrix)"
   ]
  },
  {
   "cell_type": "code",
   "execution_count": null,
   "metadata": {},
   "outputs": [],
   "source": [
    "# Reinitialize vectorizer and tfidf_matrix if session is lost\n",
    "vectorizer = joblib.load('tfidf_vectorizer.joblib')\n",
    "tfidf_matrix = scipy.sparse.load_npz(\"tfidf_matrix.npz\")"
   ]
  },
  {
   "cell_type": "code",
   "execution_count": null,
   "metadata": {},
   "outputs": [],
   "source": [
    "# Transform query so that it fits into TFIDF vector space\n",
    "query = \"cafe with great lattes in san francisco\"\n",
    "query_vec = vectorizer.transform([query])\n",
    "\n",
    "# Use cosine similarity to find most similar document for the query\n",
    "similarities = cosine_similarity(query_vec, tfidf_matrix).flatten()"
   ]
  },
  {
   "cell_type": "code",
   "execution_count": null,
   "metadata": {},
   "outputs": [],
   "source": [
    "# Match up business ids with similarity scores\n",
    "scores = []\n",
    "\n",
    "n = len(business_ids)\n",
    "for i in range(n): scores.append((business_ids[i], similarities[i]))\n",
    "\n",
    "# Sort based on score; sort in descending order\n",
    "scores.sort(key = lambda x: x[1], reverse=True)"
   ]
  },
  {
   "cell_type": "code",
   "execution_count": null,
   "metadata": {},
   "outputs": [
    {
     "name": "stdout",
     "output_type": "stream",
     "text": [
      "Vico's Mobile Auto Detailing\n",
      "Francisco's Mobile Auto Detailing\n",
      "GET Cafe\n",
      "HOME Page Cafe\n",
      "Grand Cafe & Bistro\n",
      "La Mademoiselle Marvelous Pastries and Cafe\n",
      "The Grind House\n",
      "Cafe Lavi\n",
      "Black Press Coffee Shop #003\n",
      "T cafe\n"
     ]
    }
   ],
   "source": [
    "# Print out top 10 results\n",
    "for id, _ in scores[:10]:\n",
    "\n",
    "    print(business_information[id][\"name\"])"
   ]
  },
  {
   "cell_type": "markdown",
   "metadata": {},
   "source": [
    "## Step 3: Create/Store Embeddings and Use FAISS to generate scores, Compare to token-matching ranker"
   ]
  },
  {
   "cell_type": "code",
   "execution_count": null,
   "metadata": {},
   "outputs": [
    {
     "name": "stderr",
     "output_type": "stream",
     "text": [
      "Xet Storage is enabled for this repo, but the 'hf_xet' package is not installed. Falling back to regular HTTP download. For better performance, install the package with: `pip install huggingface_hub[hf_xet]` or `pip install hf_xet`\n"
     ]
    }
   ],
   "source": [
    "# Use transformer architecture to create dense vector embeddings\n",
    "# from query and restaurant reviews \n",
    "# all = general purpose transformer\n",
    "# MiniLM = lightweight transformer similar to BERT\n",
    "# L6 = six layers\n",
    "# v2 = version two\n",
    "model = SentenceTransformer(\"all-MiniLM-L6-v2\")\n",
    "\n",
    "# Create embeddings from the reviews\n",
    "embeddings = model.encode(corpus, convert_to_numpy=True)\n",
    "dimension = embeddings.shape[1]\n",
    "\n",
    "# Create FAISS index for similarity search\n",
    "index = faiss.IndexFlatL2(dimension)\n",
    "index.add(embeddings)"
   ]
  },
  {
   "cell_type": "code",
   "execution_count": null,
   "metadata": {},
   "outputs": [],
   "source": [
    "# Persist index to file\n",
    "faiss.write_index(index, \"business_index.faiss\")"
   ]
  },
  {
   "cell_type": "code",
   "execution_count": null,
   "metadata": {},
   "outputs": [],
   "source": [
    "# Read index back from file if session is lost\n",
    "index = faiss.read_index(\"business_index.faiss\")"
   ]
  },
  {
   "cell_type": "code",
   "execution_count": null,
   "metadata": {},
   "outputs": [
    {
     "name": "stdout",
     "output_type": "stream",
     "text": [
      "Cajé Coffee - Arlington St\n",
      "Caje\n",
      "Foundry Cafe & Market\n",
      "Dune Coffee Roasters - State Street\n",
      "Cafe Lavi\n",
      "Bee Coffee Roasters\n",
      "Caffe Sorrentino\n",
      "LAVAZIO Cafe\n",
      "Breaking Grounds Coffee & Cafe\n",
      "Blossom Cafe\n",
      "Jiggy Coffee\n",
      "Spinelli's Bar Italia\n",
      "Red Kettle Coffee\n",
      "Saxbys\n",
      "Kahwa Coffee\n",
      "Cajé Coffee Roasters - Haley St\n",
      "Coffee and Supply\n",
      "Ch. Cafeteria\n",
      "Presta Coffee Roasters\n",
      "Brew Haha\n",
      "Bay Coffee & Tea Company\n",
      "Peet's Coffee\n",
      "Reinette Cafe & Patisserie\n",
      "Forin Cafe\n",
      "The Chelsea St Pete\n",
      "Kahwa St Pete Drive Thru\n",
      "The Buzz\n",
      "Broadway Bean Coffee\n",
      "Darkshot Coffee\n",
      "Buddy Brew - Hyde Park\n",
      "Good Karma Cafe\n",
      "Jitters Coffee\n",
      "Dilworth Park Café\n",
      "22nd Street Coffee\n",
      "La Mancha Coffeehouse\n",
      "Cherry Coffee Roasters\n",
      "Rabbit Hole Cafe\n",
      "Royal Cafe\n",
      "Starbucks\n",
      "Commissary Barber & Barista\n",
      "Brick And Bell\n",
      "Caffeine Roasters\n",
      "The Painted Bridge Espresso Bar\n",
      "Lambertville Trading Company\n",
      "Nameless Coffee & Tea House\n",
      "Tout De Suite Cafe\n",
      "Cajé Coffee Roasters\n",
      "Catalyst Coffee Bar\n",
      "Foundation Coffee Co\n",
      "The Blend Coffee & Wine\n"
     ]
    }
   ],
   "source": [
    "# Check results of test query\n",
    "query = \"cafe with great lattes in san francisco\"\n",
    "query_vec = model.encode([query], convert_to_numpy=True)\n",
    "\n",
    "# Get top k results\n",
    "k = 50\n",
    "D, I = index.search(query_vec, k)\n",
    "top_businesses = [business_ids[i] for i in I[0]]\n",
    "\n",
    "for id in top_businesses:\n",
    "\n",
    "    print(business_information[id][\"name\"])"
   ]
  }
 ],
 "metadata": {
  "kernelspec": {
   "display_name": "Python 3",
   "language": "python",
   "name": "python3"
  },
  "language_info": {
   "codemirror_mode": {
    "name": "ipython",
    "version": 3
   },
   "file_extension": ".py",
   "mimetype": "text/x-python",
   "name": "python",
   "nbconvert_exporter": "python",
   "pygments_lexer": "ipython3",
   "version": "3.12.9"
  }
 },
 "nbformat": 4,
 "nbformat_minor": 2
}
