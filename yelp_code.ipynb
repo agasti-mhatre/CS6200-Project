{
 "cells": [
  {
   "cell_type": "code",
   "execution_count": 1,
   "metadata": {},
   "outputs": [
    {
     "name": "stderr",
     "output_type": "stream",
     "text": [
      "[nltk_data] Downloading package punkt_tab to\n",
      "[nltk_data]     /Users/agastimhatre/nltk_data...\n",
      "[nltk_data]   Package punkt_tab is already up-to-date!\n"
     ]
    },
    {
     "data": {
      "text/plain": [
       "True"
      ]
     },
     "execution_count": 1,
     "metadata": {},
     "output_type": "execute_result"
    }
   ],
   "source": [
    "# Import necessary libraries\n",
    "\n",
    "import json\n",
    "from collections import defaultdict\n",
    "\n",
    "import nltk\n",
    "from nltk.tokenize import word_tokenize\n",
    "\n",
    "nltk.download('punkt_tab')"
   ]
  },
  {
   "cell_type": "code",
   "execution_count": 2,
   "metadata": {},
   "outputs": [],
   "source": [
    "# Store reviews for each business\n",
    "business_information = defaultdict(lambda: {\"reviews\": []})\n",
    "\n",
    "with open(\"yelp_academic_dataset_review.json\", \"r\", encoding=\"utf-8\") as file:\n",
    "\n",
    "    for line in file: \n",
    "\n",
    "        curr = json.loads(line)\n",
    "        business_information[curr[\"business_id\"]][\"reviews\"].append(curr[\"text\"])"
   ]
  },
  {
   "cell_type": "code",
   "execution_count": 3,
   "metadata": {},
   "outputs": [],
   "source": [
    "# Extract business-specific data and store in dictionary\n",
    "with open(\"yelp_academic_dataset_business.json\", \"r\", encoding=\"utf-8\") as file:\n",
    "\n",
    "    for line in file:\n",
    "\n",
    "        curr = json.loads(line)\n",
    "        business_information[curr[\"business_id\"]][\"name\"] = curr[\"name\"]"
   ]
  },
  {
   "cell_type": "code",
   "execution_count": 4,
   "metadata": {},
   "outputs": [],
   "source": [
    "# Tokenize reviews and convert all tokens to lowercase\n",
    "tokenized_business_information = defaultdict(lambda: {\"reviews\": []})\n",
    "\n",
    "for id_ in business_information.keys():\n",
    "\n",
    "    for review in business_information[id_][\"reviews\"]:\n",
    "\n",
    "        tokenized_business_information[id_][\"reviews\"].append([word.lower() for word in word_tokenize(review)])"
   ]
  },
  {
   "cell_type": "code",
   "execution_count": 5,
   "metadata": {},
   "outputs": [],
   "source": [
    "with open('business_with_reviews.json', 'w') as f:\n",
    "    for key, value in tokenized_business_information.items():\n",
    "        json.dump({key: value}, f)\n",
    "        f.write('\\n')"
   ]
  },
  {
   "cell_type": "code",
   "execution_count": null,
   "metadata": {},
   "outputs": [],
   "source": [
    "# Example, delete later\n",
    "print(business_information[\"XQfwVwDr-v0ZS3_CbbE5Xw\"][\"name\"])\n",
    "\n",
    "for x in business_information[\"XQfwVwDr-v0ZS3_CbbE5Xw\"][\"reviews\"]:\n",
    "\n",
    "    print(x)\n",
    "    print(\"_________________________________\")"
   ]
  }
 ],
 "metadata": {
  "kernelspec": {
   "display_name": "Python 3",
   "language": "python",
   "name": "python3"
  },
  "language_info": {
   "codemirror_mode": {
    "name": "ipython",
    "version": 3
   },
   "file_extension": ".py",
   "mimetype": "text/x-python",
   "name": "python",
   "nbconvert_exporter": "python",
   "pygments_lexer": "ipython3",
   "version": "3.13.2"
  }
 },
 "nbformat": 4,
 "nbformat_minor": 2
}
