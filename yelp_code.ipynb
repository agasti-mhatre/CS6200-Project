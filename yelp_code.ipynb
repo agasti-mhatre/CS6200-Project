{
 "cells": [
  {
   "cell_type": "code",
   "execution_count": 3,
   "metadata": {},
   "outputs": [
    {
     "name": "stderr",
     "output_type": "stream",
     "text": [
      "/Users/agastimhatre/miniforge3/lib/python3.12/site-packages/tqdm/auto.py:21: TqdmWarning: IProgress not found. Please update jupyter and ipywidgets. See https://ipywidgets.readthedocs.io/en/stable/user_install.html\n",
      "  from .autonotebook import tqdm as notebook_tqdm\n",
      "[nltk_data] Downloading package punkt_tab to\n",
      "[nltk_data]     /Users/agastimhatre/nltk_data...\n",
      "[nltk_data]   Package punkt_tab is already up-to-date!\n"
     ]
    },
    {
     "data": {
      "text/plain": [
       "True"
      ]
     },
     "execution_count": 3,
     "metadata": {},
     "output_type": "execute_result"
    }
   ],
   "source": [
    "# Import necessary libraries\n",
    "\n",
    "import json\n",
    "import joblib\n",
    "from collections import defaultdict\n",
    "from sentence_transformers import SentenceTransformer\n",
    "import numpy as np\n",
    "import faiss\n",
    "import pandas as pd\n",
    "import scipy.sparse\n",
    "from math import radians, cos, sin, asin, sqrt\n",
    "\n",
    "from sklearn.feature_extraction.text import TfidfVectorizer\n",
    "from sklearn.metrics.pairwise import cosine_similarity\n",
    "\n",
    "import nltk\n",
    "from nltk.tokenize import word_tokenize\n",
    "\n",
    "nltk.download('punkt_tab')"
   ]
  },
  {
   "cell_type": "markdown",
   "metadata": {},
   "source": [
    "## Step 1: Join business dataset with reviews dataset. Tokenize reviews and convert to lowercase"
   ]
  },
  {
   "cell_type": "code",
   "execution_count": 21,
   "metadata": {},
   "outputs": [],
   "source": [
    "# Store reviews for each business\n",
    "business_information = defaultdict(lambda: {\"reviews\": []})\n",
    "\n",
    "with open(\"yelp_academic_dataset_review.json\", \"r\", encoding=\"utf-8\") as file:\n",
    "\n",
    "    for line in file: \n",
    "\n",
    "        curr = json.loads(line)\n",
    "        business_information[curr[\"business_id\"]][\"reviews\"].append(curr[\"text\"])"
   ]
  },
  {
   "cell_type": "code",
   "execution_count": 22,
   "metadata": {},
   "outputs": [],
   "source": [
    "# Extract business-specific data and store in dictionary\n",
    "with open(\"yelp_academic_dataset_business.json\", \"r\", encoding=\"utf-8\") as file:\n",
    "\n",
    "    for line in file:\n",
    "\n",
    "        curr = json.loads(line)\n",
    "        business_information[curr[\"business_id\"]][\"name\"] = curr[\"name\"]\n",
    "        business_information[curr[\"business_id\"]][\"address\"] = curr[\"address\"]\n",
    "        business_information[curr[\"business_id\"]][\"city\"] = curr[\"city\"]\n",
    "        business_information[curr[\"business_id\"]][\"state\"] = curr[\"state\"]\n",
    "        business_information[curr[\"business_id\"]][\"latitude\"] = curr[\"latitude\"]\n",
    "        business_information[curr[\"business_id\"]][\"longitude\"] = curr[\"longitude\"]\n",
    "        business_information[curr[\"business_id\"]][\"stars\"] = curr[\"stars\"]"
   ]
  },
  {
   "cell_type": "code",
   "execution_count": 4,
   "metadata": {},
   "outputs": [],
   "source": [
    "# Tokenize reviews and convert all tokens to lowercase\n",
    "tokenized_business_information = defaultdict(lambda: {\"reviews\": []})\n",
    "\n",
    "for id_ in business_information.keys():\n",
    "\n",
    "    for review in business_information[id_][\"reviews\"]:\n",
    "\n",
    "        tokenized_business_information[id_][\"reviews\"].append([word.lower() for word in word_tokenize(review)])"
   ]
  },
  {
   "cell_type": "code",
   "execution_count": 5,
   "metadata": {},
   "outputs": [],
   "source": [
    "# Write joined, tokenized business/review data to a file\n",
    "with open('business_with_reviews.json', 'w') as f:\n",
    "    for key, value in tokenized_business_information.items():\n",
    "        json.dump({key: value}, f)\n",
    "        f.write('\\n')"
   ]
  },
  {
   "cell_type": "markdown",
   "metadata": {},
   "source": [
    "## Step 2: Output scores for TFIDF ranker"
   ]
  },
  {
   "cell_type": "code",
   "execution_count": 4,
   "metadata": {},
   "outputs": [],
   "source": [
    "# Read in business reviews from JSON file\n",
    "business_reviews = dict()\n",
    "\n",
    "with open('business_with_reviews.json', 'r') as f:\n",
    "\n",
    "    for line in f:\n",
    "\n",
    "        record = json.loads(line)\n",
    "        business_reviews.update(record)"
   ]
  },
  {
   "cell_type": "code",
   "execution_count": 5,
   "metadata": {},
   "outputs": [],
   "source": [
    "# Test one query on the entire dataset, check results\n",
    "business_ids = list(business_reviews.keys())\n",
    "corpus = []\n",
    "for id_ in business_ids:\n",
    "\n",
    "    # Each business review is condensed down into a single, long sentence\n",
    "    # so that TFIDF and other embedding techniques could be applied\n",
    "    corpus.append(\" \".join(\" \".join(tokens) for tokens in business_reviews[id_][\"reviews\"]))"
   ]
  },
  {
   "cell_type": "code",
   "execution_count": 6,
   "metadata": {},
   "outputs": [],
   "source": [
    "# Create TFIDF vector and train vectorizer\n",
    "vectorizer = TfidfVectorizer()\n",
    "tfidf_matrix = vectorizer.fit_transform(corpus)\n",
    "\n",
    "# Persist vector and model, and ids\n",
    "joblib.dump(vectorizer, 'tfidf_vectorizer.joblib')\n",
    "scipy.sparse.save_npz(\"tfidf_matrix.npz\", tfidf_matrix)\n",
    "with open(\"business_ids.json\", \"w\") as f: json.dump(business_ids, f)"
   ]
  },
  {
   "cell_type": "code",
   "execution_count": 7,
   "metadata": {},
   "outputs": [],
   "source": [
    "# Reinitialize vectorizer and tfidf_matrix if session is lost\n",
    "vectorizer = joblib.load('tfidf_vectorizer.joblib')\n",
    "tfidf_matrix = scipy.sparse.load_npz(\"tfidf_matrix.npz\")\n",
    "with open(\"business_ids.json\") as f: business_ids = json.load(f)"
   ]
  },
  {
   "cell_type": "code",
   "execution_count": 8,
   "metadata": {},
   "outputs": [],
   "source": [
    "# Transform query so that it fits into TFIDF vector space\n",
    "query = \"cafe with great lattes in san francisco\"\n",
    "query_vec = vectorizer.transform([query])\n",
    "\n",
    "# Use cosine similarity to find most similar document for the query\n",
    "similarities = cosine_similarity(query_vec, tfidf_matrix).flatten()"
   ]
  },
  {
   "cell_type": "code",
   "execution_count": 9,
   "metadata": {},
   "outputs": [],
   "source": [
    "# Match up business ids with similarity scores\n",
    "scores = []\n",
    "\n",
    "n = len(business_ids)\n",
    "for i in range(n): scores.append((business_ids[i], similarities[i]))\n",
    "\n",
    "# Sort based on score; sort in descending order\n",
    "scores.sort(key = lambda x: x[1], reverse=True)"
   ]
  },
  {
   "cell_type": "code",
   "execution_count": 23,
   "metadata": {},
   "outputs": [
    {
     "name": "stdout",
     "output_type": "stream",
     "text": [
      "Vico's Mobile Auto Detailing\n",
      "Francisco's Mobile Auto Detailing\n",
      "GET Cafe\n",
      "HOME Page Cafe\n",
      "Grand Cafe & Bistro\n",
      "La Mademoiselle Marvelous Pastries and Cafe\n",
      "The Grind House\n",
      "Cafe Lavi\n",
      "Black Press Coffee Shop #003\n",
      "T cafe\n"
     ]
    }
   ],
   "source": [
    "# Print out top 10 results\n",
    "for id, _ in scores[:10]:\n",
    "\n",
    "    print(business_information[id][\"name\"])"
   ]
  },
  {
   "cell_type": "markdown",
   "metadata": {},
   "source": [
    "## Step 3: Create/Store Embeddings and Use FAISS to generate scores, Compare to token-matching ranker"
   ]
  },
  {
   "cell_type": "code",
   "execution_count": 11,
   "metadata": {},
   "outputs": [],
   "source": [
    "# Use transformer architecture to create dense vector embeddings\n",
    "# from query and restaurant reviews \n",
    "# all = general purpose transformer\n",
    "# MiniLM = lightweight transformer similar to BERT\n",
    "# L6 = six layers\n",
    "# v2 = version two\n",
    "model = SentenceTransformer(\"all-MiniLM-L6-v2\")\n",
    "\n",
    "# Create embeddings from the reviews\n",
    "embeddings = model.encode(corpus, convert_to_numpy=True)\n",
    "dimension = embeddings.shape[1]\n",
    "\n",
    "# Create FAISS index for similarity search\n",
    "index = faiss.IndexFlatL2(dimension)\n",
    "index.add(embeddings)"
   ]
  },
  {
   "cell_type": "code",
   "execution_count": 12,
   "metadata": {},
   "outputs": [],
   "source": [
    "# Persist embeddings to file\n",
    "np.savez(\"transformer_embeddings.npz\", ids=business_ids, vectors=embeddings)"
   ]
  },
  {
   "cell_type": "code",
   "execution_count": 13,
   "metadata": {},
   "outputs": [],
   "source": [
    "# Read embeddings back into matrix if session is lost\n",
    "\n",
    "data = np.load(\"transformer_embeddings.npz\", allow_pickle=True)\n",
    "business_ids = data[\"ids\"].tolist()\n",
    "embeddings = data[\"vectors\"]"
   ]
  },
  {
   "cell_type": "code",
   "execution_count": 14,
   "metadata": {},
   "outputs": [],
   "source": [
    "# Persist index to file\n",
    "faiss.write_index(index, \"business_index.faiss\")"
   ]
  },
  {
   "cell_type": "code",
   "execution_count": 15,
   "metadata": {},
   "outputs": [],
   "source": [
    "# Read index back from file if session is lost\n",
    "index = faiss.read_index(\"business_index.faiss\")"
   ]
  },
  {
   "cell_type": "code",
   "execution_count": 24,
   "metadata": {},
   "outputs": [
    {
     "name": "stdout",
     "output_type": "stream",
     "text": [
      "Cajé Coffee - Arlington St\n",
      "Caje\n",
      "Foundry Cafe & Market\n",
      "Dune Coffee Roasters - State Street\n",
      "Cafe Lavi\n",
      "Bee Coffee Roasters\n",
      "Caffe Sorrentino\n",
      "LAVAZIO Cafe\n",
      "Breaking Grounds Coffee & Cafe\n",
      "Blossom Cafe\n",
      "Jiggy Coffee\n",
      "Spinelli's Bar Italia\n",
      "Red Kettle Coffee\n",
      "Saxbys\n",
      "Kahwa Coffee\n",
      "Cajé Coffee Roasters - Haley St\n",
      "Coffee and Supply\n",
      "Ch. Cafeteria\n",
      "Presta Coffee Roasters\n",
      "Brew Haha\n",
      "Bay Coffee & Tea Company\n",
      "Peet's Coffee\n",
      "Reinette Cafe & Patisserie\n",
      "Forin Cafe\n",
      "The Chelsea St Pete\n",
      "Kahwa St Pete Drive Thru\n",
      "The Buzz\n",
      "Broadway Bean Coffee\n",
      "Darkshot Coffee\n",
      "Buddy Brew - Hyde Park\n",
      "Good Karma Cafe\n",
      "Jitters Coffee\n",
      "Dilworth Park Café\n",
      "22nd Street Coffee\n",
      "La Mancha Coffeehouse\n",
      "Cherry Coffee Roasters\n",
      "Rabbit Hole Cafe\n",
      "Royal Cafe\n",
      "Starbucks\n",
      "Commissary Barber & Barista\n",
      "Brick And Bell\n",
      "Caffeine Roasters\n",
      "The Painted Bridge Espresso Bar\n",
      "Lambertville Trading Company\n",
      "Nameless Coffee & Tea House\n",
      "Tout De Suite Cafe\n",
      "Cajé Coffee Roasters\n",
      "Catalyst Coffee Bar\n",
      "Foundation Coffee Co\n",
      "The Blend Coffee & Wine\n"
     ]
    }
   ],
   "source": [
    "# Check results of test query\n",
    "query = \"cafe with great lattes in san francisco\"\n",
    "query_vec = model.encode([query], convert_to_numpy=True)\n",
    "\n",
    "# Get top k results\n",
    "k = 50\n",
    "D, I = index.search(query_vec, k)\n",
    "top_businesses = [business_ids[i] for i in I[0]]\n",
    "\n",
    "for id in top_businesses:\n",
    "\n",
    "    print(business_information[id][\"name\"])"
   ]
  },
  {
   "cell_type": "markdown",
   "metadata": {},
   "source": [
    "## Batuhan's part"
   ]
  },
  {
   "cell_type": "code",
   "execution_count": 25,
   "metadata": {},
   "outputs": [],
   "source": [
    "bordering_states = {\n",
    "    'AL': ['FL', 'GA', 'MS', 'TN'],\n",
    "    'AK': [],\n",
    "    'AZ': ['CA', 'CO', 'NM', 'NV', 'UT'],\n",
    "    'AR': ['LA', 'MO', 'MS', 'OK', 'TN', 'TX'],\n",
    "    'CA': ['AZ', 'NV', 'OR'],\n",
    "    'CO': ['AZ', 'KS', 'NE', 'NM', 'OK', 'UT', 'WY'],\n",
    "    'CT': ['MA', 'NY', 'RI'],\n",
    "    'DE': ['MD', 'NJ', 'PA'],\n",
    "    'FL': ['AL', 'GA'],\n",
    "    'GA': ['AL', 'FL', 'NC', 'SC', 'TN'],\n",
    "    'HI': [],\n",
    "    'ID': ['MT', 'NV', 'OR', 'UT', 'WA', 'WY'],\n",
    "    'IL': ['IA', 'IN', 'KY', 'MO', 'WI'],\n",
    "    'IN': ['IL', 'KY', 'MI', 'OH'],\n",
    "    'IA': ['IL', 'MN', 'MO', 'NE', 'SD', 'WI'],\n",
    "    'KS': ['CO', 'MO', 'NE', 'OK'],\n",
    "    'KY': ['IL', 'IN', 'MO', 'OH', 'TN', 'VA', 'WV'],\n",
    "    'LA': ['AR', 'MS', 'TX'],\n",
    "    'ME': ['NH'],\n",
    "    'MD': ['DE', 'PA', 'VA', 'WV'],\n",
    "    'MA': ['CT', 'NH', 'NY', 'RI', 'VT'],\n",
    "    'MI': ['IN', 'OH', 'WI'],\n",
    "    'MN': ['IA', 'ND', 'SD', 'WI'],\n",
    "    'MS': ['AL', 'AR', 'LA', 'TN'],\n",
    "    'MO': ['AR', 'IA', 'IL', 'KS', 'KY', 'NE', 'OK', 'TN'],\n",
    "    'MT': ['ID', 'ND', 'SD', 'WY'],\n",
    "    'NE': ['CO', 'IA', 'KS', 'MO', 'SD', 'WY'],\n",
    "    'NV': ['AZ', 'CA', 'ID', 'OR', 'UT'],\n",
    "    'NH': ['MA', 'ME', 'VT'],\n",
    "    'NJ': ['DE', 'NY', 'PA'],\n",
    "    'NM': ['AZ', 'CO', 'OK', 'TX', 'UT'],\n",
    "    'NY': ['CT', 'MA', 'NJ', 'PA', 'VT'],\n",
    "    'NC': ['GA', 'SC', 'TN', 'VA'],\n",
    "    'ND': ['MN', 'MT', 'SD'],\n",
    "    'OH': ['IN', 'KY', 'MI', 'PA', 'WV'],\n",
    "    'OK': ['AR', 'CO', 'KS', 'MO', 'NM', 'TX'],\n",
    "    'OR': ['CA', 'ID', 'NV', 'WA'],\n",
    "    'PA': ['DE', 'MD', 'NJ', 'NY', 'OH', 'WV'],\n",
    "    'RI': ['CT', 'MA'],\n",
    "    'SC': ['GA', 'NC'],\n",
    "    'SD': ['IA', 'MN', 'MT', 'ND', 'NE', 'WY'],\n",
    "    'TN': ['AL', 'AR', 'GA', 'KY', 'MO', 'MS', 'NC', 'VA'],\n",
    "    'TX': ['AR', 'LA', 'NM', 'OK'],\n",
    "    'UT': ['AZ', 'CO', 'ID', 'NV', 'NM', 'WY'],\n",
    "    'VT': ['MA', 'NH', 'NY'],\n",
    "    'VA': ['KY', 'MD', 'NC', 'TN', 'WV'],\n",
    "    'WA': ['ID', 'OR'],\n",
    "    'WV': ['KY', 'MD', 'OH', 'PA', 'VA'],\n",
    "    'WI': ['IA', 'IL', 'MI', 'MN'],\n",
    "    'WY': ['CO', 'ID', 'MT', 'NE', 'SD', 'UT']\n",
    "}"
   ]
  },
  {
   "cell_type": "code",
   "execution_count": 18,
   "metadata": {},
   "outputs": [],
   "source": [
    "def haversine(lat1, lon1, lat2, lon2):\n",
    "    \n",
    "    lat1, lon1, lat2, lon2 = map(radians, [lat1, lon1, lat2, lon2])\n",
    "    angle = sin((lat2 - lat1)/2)**2 + cos(lat1) * cos(lat2) * sin((lon2 - lon1)/2)**2\n",
    "    dist = 2 * asin(sqrt(angle))\n",
    "    return dist * 6371\n",
    "\n",
    "def extract_2nd(a):\n",
    "    return a[1]"
   ]
  },
  {
   "cell_type": "code",
   "execution_count": 27,
   "metadata": {},
   "outputs": [],
   "source": [
    "def rank_by_location_with_embeddings(query, state_u, lat_u, lon_u, model, index, business_ids, business_info):\n",
    "    allowed_states = [state_u] + bordering_states.get(state_u, [])\n",
    "    \n",
    "    # Encode query with SentenceTransformer\n",
    "    query_vec = model.encode([query], convert_to_numpy=True)\n",
    "    _, I = index.search(query_vec, 100)\n",
    "    top_ids = [business_ids[i] for i in I[0]]\n",
    "    \n",
    "    restaurant_values_embed = []\n",
    "    for bid in top_ids:\n",
    "        info = business_info.get(bid, {})\n",
    "        # Check if any info is empty\n",
    "        lat, lon = info.get(\"latitude\"), info.get(\"longitude\")\n",
    "        if not lat or not lon:\n",
    "            continue\n",
    "        if not info.get(\"reviews\"):\n",
    "            continue\n",
    "        # Check if the state is close, if not skip\n",
    "        if info.get(\"state\") not in allowed_states:\n",
    "            continue\n",
    "        \n",
    "        # Find distance\n",
    "        distance = haversine(lat_u, lon_u, lat, lon)\n",
    "        value = info[\"stars\"]\n",
    "        \n",
    "        if distance > 5:\n",
    "            # Only penalize the portion over 5km\n",
    "            value = value - 0.005 * (distance - 5)\n",
    "        \n",
    "        restaurant_values_embed.append((bid, value))\n",
    "    \n",
    "\n",
    "    final_ranking = sorted(restaurant_values_embed, key=extract_2nd, reverse=True)\n",
    "    lowest_score = final_ranking[-1][1]\n",
    "\n",
    "    if lowest_score < 0:\n",
    "\n",
    "        for i in range(len(final_ranking)):\n",
    "\n",
    "            _, curr_score = final_ranking[i]\n",
    "            final_ranking[i] = (_, curr_score - lowest_score)\n",
    "\n",
    "    return final_ranking"
   ]
  },
  {
   "cell_type": "code",
   "execution_count": 28,
   "metadata": {},
   "outputs": [
    {
     "name": "stdout",
     "output_type": "stream",
     "text": [
      "House of Mexica (bCpdPDm3mnqMtVOZWYjEWw): score = 6.61\n",
      "Ike's Love & Sandwiches (roy566JpT8RPwKQDQYt-LQ): score = 6.13\n",
      "Burger Me! (Sc6V7hXU7Ar2_mmRoRYsKw): score = 6.13\n",
      "Rascal's Vegan Food (UQZe-qWOpGiyEPsTUko5Rg): score = 5.87\n",
      "Sizl Burger (j-R5Rrink9LxUta6PC9iFw): score = 5.57\n",
      "The Natural Cafe (lu2UpRHLBZfvLG_caNEHKQ): score = 5.37\n",
      "Little Love Burger (4xsfnA6lXXa5dgqOxiubdQ): score = 2.05\n",
      "E. River Bar (HD8QZaZdFkymJwKn8_CVQg): score = 2.03\n",
      "Divine Bovine Burgers (jEAqMCGw3ocephZJFsl-qw): score = 2.01\n",
      "Substance Diner (fzt_W-vCaq4iGactb07VwA): score = 1.86\n",
      "Beaut Burger (zL7wVx6Ihf1VEb9Wi7P0bw): score = 1.55\n",
      "Lovin' Spoonfuls Vegan Restaurant (szad9yEwckNw0P3L5FGyNQ): score = 1.55\n",
      "Welcome Diner (DK98TgLNmIguxMMPGlyb5w): score = 1.54\n",
      "Graze Premium Burgers (NvaLV6FYt0bax2iKvuYYZQ): score = 1.51\n",
      "Burger King (KL1xQGSxC5OmpZyq0PqjXg): score = 0.00\n"
     ]
    }
   ],
   "source": [
    "# Query and rank\n",
    "\n",
    "user_state = \"CA\"\n",
    "user_lat = 37.77\n",
    "user_lon = -122.42\n",
    "\n",
    "results = rank_by_location_with_embeddings(\n",
    "    \"vegan burger\", user_state, user_lat, user_lon,\n",
    "    model, index, business_ids, business_information\n",
    ")\n",
    " \n",
    "# Print top results\n",
    "for bid, score in results:\n",
    "    print(f\"{business_information[bid]['name']} ({bid}): score = {score:.2f}\")"
   ]
  },
  {
   "cell_type": "markdown",
   "metadata": {},
   "source": [
    "## Tanmay's Part"
   ]
  },
  {
   "cell_type": "code",
   "execution_count": 29,
   "metadata": {},
   "outputs": [],
   "source": [
    "def apply_rating_penalty(avg_rating, threshold,curve=\"linear\", param = 1):\n",
    "    \n",
    "    diff = max(0.0, threshold - avg_rating)\n",
    "    #percentage difference\n",
    "    scale = diff / threshold\n",
    " \n",
    "    scale = scale * param\n",
    " \n",
    "    if curve == \"linear\":\n",
    "        return 1.0 - scale\n",
    "    elif curve == \"square\":\n",
    "        return 1.0 - scale**2\n",
    "    elif curve == \"exp\":\n",
    "        return np.exp(-5 * scale)  \n",
    "    else:\n",
    "        return 1.0  # No penalty"
   ]
  },
  {
   "cell_type": "code",
   "execution_count": 30,
   "metadata": {},
   "outputs": [],
   "source": [
    "def rank_with_similarity_and_rankingpenalty(similarities, business_ids, business_information, threshold=3.0, curve=\"linear\",param = 1):\n",
    "    ranked = []\n",
    " \n",
    "    #for every business id\n",
    "    for i, bid in enumerate(business_ids):\n",
    " \n",
    "        avg_rating = business_information[bid].get(\"stars\", 0.0)\n",
    " \n",
    "        penalty_weight = apply_rating_penalty(avg_rating, threshold, curve,param)\n",
    " \n",
    " \n",
    "        adjusted_score = similarities[i] * penalty_weight\n",
    " \n",
    "    \n",
    "        ranked.append((bid, adjusted_score))\n",
    " \n",
    "    ranked.sort(key=lambda x: x[1], reverse=True)\n",
    " \n",
    "    return ranked\n",
    " \n",
    " \n",
    "def get_map_100(ranked_list, ground_truth, relevant_label=\"highly\"):\n",
    "    relevant_found = 0\n",
    "    precision_total = 0.0\n",
    " \n",
    "    for i, (bid, _) in enumerate(ranked_list[:100]):\n",
    "        if ground_truth.get(bid) == relevant_label:\n",
    "            relevant_found += 1\n",
    "            precision_total += relevant_found / (i + 1)\n",
    " \n",
    "    return precision_total / relevant_found if relevant_found > 0 else 0.0"
   ]
  },
  {
   "cell_type": "code",
   "execution_count": 31,
   "metadata": {},
   "outputs": [
    {
     "data": {
      "text/plain": [
       "'for curve in curves:\\n    for param in params:\\n        ranked_results = rank_with_similarity_and_rankingpenalty(\\n            similarities,\\n            business_ids,\\n            business_information,\\n            threshold=3.0,\\n            curve=curve,\\n            param=param\\n        )\\n\\n        map_score = get_map_100(ranked_results,\\n                                ground_truth_labels\\n                                #need gt labels to make sure all results are checked properly\\n                                )\\n\\n        results.append({\\n            \"curve\": curve,\\n            \"param\": param,\\n            \"map@100\": map_score\\n        })\\n\\n        print(f\"Curve: {curve}, Param: {param}, MAP@100: {map_score:.4f}\")\\n\\n        if map_score > best_map:\\n            best_map = map_score\\n            best_curve = curve\\n            best_param = param\\n\\n# Convert results to DataFrame\\nresults_df = pd.DataFrame(results)\\n\\n# Print best config\\nprint(\"\\nBest configuration:\")\\nprint(f\"Curve: {best_curve}\")\\nprint(f\"Param: {best_param}\")\\nprint(f\"MAP@100: {best_map:.4f}\")'"
      ]
     },
     "execution_count": 31,
     "metadata": {},
     "output_type": "execute_result"
    }
   ],
   "source": [
    "##Finding Optimal Params\n",
    "  \n",
    "curves = [\"linear\", \"square\", \"exp\"]\n",
    "params = [0.2, 0.5, 0.75, 1.0, 1.25, 1.5, 2.0]\n",
    " \n",
    "best_map = 0.0\n",
    "best_curve = None\n",
    "best_param = None\n",
    " \n",
    "results = []\n",
    " \n",
    "'''for curve in curves:\n",
    "    for param in params:\n",
    "        ranked_results = rank_with_similarity_and_rankingpenalty(\n",
    "            similarities,\n",
    "            business_ids,\n",
    "            business_information,\n",
    "            threshold=3.0,\n",
    "            curve=curve,\n",
    "            param=param\n",
    "        )\n",
    " \n",
    "        map_score = get_map_100(ranked_results,\n",
    "                                ground_truth_labels\n",
    "                                #need gt labels to make sure all results are checked properly\n",
    "                                )\n",
    " \n",
    "        results.append({\n",
    "            \"curve\": curve,\n",
    "            \"param\": param,\n",
    "            \"map@100\": map_score\n",
    "        })\n",
    " \n",
    "        print(f\"Curve: {curve}, Param: {param}, MAP@100: {map_score:.4f}\")\n",
    " \n",
    "        if map_score > best_map:\n",
    "            best_map = map_score\n",
    "            best_curve = curve\n",
    "            best_param = param\n",
    " \n",
    "# Convert results to DataFrame\n",
    "results_df = pd.DataFrame(results)\n",
    " \n",
    "# Print best config\n",
    "print(\"\\nBest configuration:\")\n",
    "print(f\"Curve: {best_curve}\")\n",
    "print(f\"Param: {best_param}\")\n",
    "print(f\"MAP@100: {best_map:.4f}\")'''"
   ]
  },
  {
   "cell_type": "markdown",
   "metadata": {},
   "source": [
    "## Ground Truth (Praveen's Part)"
   ]
  },
  {
   "cell_type": "code",
   "execution_count": null,
   "metadata": {},
   "outputs": [],
   "source": [
    "def build_ground_truth_level_B(biz_path, rev_path, query_keywords, location,\n",
    "                               max_matches=5000, min_stars=0.0):\n",
    "    biz_meta = {}\n",
    "    with open(biz_path, \"r\", encoding=\"utf-8\") as f:\n",
    "        for i, line in enumerate(f):\n",
    "            if i >= max_matches: break\n",
    "            b = json.loads(line)\n",
    "            biz_meta[b[\"business_id\"]] = b\n",
    " \n",
    "    # load up to 10 reviews per business\n",
    "    reviews = defaultdict(list)\n",
    "    with open(rev_path, \"r\", encoding=\"utf-8\") as f:\n",
    "        for line in f:\n",
    "            r = json.loads(line)\n",
    "            bid = r[\"business_id\"]\n",
    "            if bid in biz_meta and len(reviews[bid]) < 10:\n",
    "                reviews[bid].append(r[\"text\"].lower())\n",
    " \n",
    "    gt = {}\n",
    "    for bid, info in biz_meta.items():\n",
    "        city = info.get(\"city\",\"\").lower().strip()\n",
    "        cats = (info.get(\"categories\") or \"\").lower()\n",
    "        stars = float(info.get(\"stars\",0))\n",
    "        # metadata filters\n",
    "        if city != location or stars < min_stars or not any(k in cats for k in [\"cafe\",\"coffee\",\"espresso\",\"tea\"]):\n",
    "            gt[bid] = \"irrelevant\"\n",
    "        else:\n",
    "            text = \" \".join(reviews.get(bid, []))\n",
    "            gt[bid] = \"somewhat\" if any(qk in text for qk in query_keywords) else \"irrelevant\"\n",
    "    return gt, biz_meta"
   ]
  },
  {
   "cell_type": "code",
   "execution_count": 33,
   "metadata": {},
   "outputs": [],
   "source": [
    "def build_ground_truth_level_B_all(biz_path, rev_path, query_keywords, min_stars=0.0):\n",
    "\n",
    "    # Load all business metadata\n",
    "\n",
    "    biz_meta = {}\n",
    "\n",
    "    with open(biz_path, \"r\", encoding=\"utf-8\") as f:\n",
    "\n",
    "        for line in f:\n",
    "\n",
    "            b = json.loads(line)\n",
    "\n",
    "            biz_meta[b[\"business_id\"]] = b\n",
    " \n",
    "    # Load up to 10 reviews per business\n",
    "\n",
    "    reviews = defaultdict(list)\n",
    "\n",
    "    with open(rev_path, \"r\", encoding=\"utf-8\") as f:\n",
    "\n",
    "        for line in f:\n",
    "\n",
    "            r = json.loads(line)\n",
    "\n",
    "            bid = r[\"business_id\"]\n",
    "\n",
    "            if bid in biz_meta and len(reviews[bid]) < 10:\n",
    "\n",
    "                reviews[bid].append(r[\"text\"].lower())\n",
    " \n",
    "    # Assign labels\n",
    "\n",
    "    gt = {}\n",
    "\n",
    "    for bid, info in biz_meta.items():\n",
    "\n",
    "        cats = (info.get(\"categories\") or \"\").lower()\n",
    "\n",
    "        stars = float(info.get(\"stars\", 0))\n",
    "\n",
    "        # metadata filters: only check category and stars\n",
    "\n",
    "        if stars < min_stars or not any(k in cats for k in [\"cafe\", \"coffee\", \"espresso\", \"tea\"]):\n",
    "\n",
    "            gt[bid] = \"irrelevant\"\n",
    "\n",
    "        else:\n",
    "\n",
    "            text = \" \".join(reviews.get(bid, []))\n",
    "\n",
    "            gt[bid] = \"somewhat\" if any(qk in text for qk in query_keywords) else \"irrelevant\"\n",
    " \n",
    "    return gt, biz_meta"
   ]
  },
  {
   "cell_type": "code",
   "execution_count": 34,
   "metadata": {},
   "outputs": [],
   "source": [
    "biz_path = \"yelp_academic_dataset_business.json\"\n",
    "\n",
    "rev_path = \"yelp_academic_dataset_review.json\"\n",
    "\n",
    "query_keywords = [\"latte\", \"coffee\", \"espresso\", \"cappuccino\"]\n",
    " \n",
    "gt, meta = build_ground_truth_level_B_all(biz_path, rev_path, query_keywords, min_stars=3.0)\n",
    " \n",
    "# Save to disk\n",
    "\n",
    "with open(\"ground_truth_level_B_full.json\", \"w\") as f:\n",
    "\n",
    "    json.dump(gt, f, indent=2)"
   ]
  },
  {
   "cell_type": "code",
   "execution_count": 45,
   "metadata": {},
   "outputs": [],
   "source": [
    "import json\n",
    "from collections import defaultdict\n",
    "from sklearn.metrics.pairwise import cosine_similarity\n",
    "from sentence_transformers import SentenceTransformer\n",
    "\n",
    "def build_ground_truth_level_A_plus_all(biz_path, rev_path, query, query_keywords,\n",
    "                                        location, min_stars=3.0,\n",
    "                                        thresholds=(0.5, 0.3), max_reviews=10):\n",
    "    \"\"\"\n",
    "    \"\"\"\n",
    "    # Load business metadata\n",
    "    biz_meta = {}\n",
    "    with open(biz_path, \"r\", encoding=\"utf-8\") as f:\n",
    "        for line in f:\n",
    "            b = json.loads(line)\n",
    "            cats = (b.get(\"categories\") or \"\").lower()\n",
    "            stars = float(b.get(\"stars\", 0))\n",
    "            city = (b.get(\"city\") or \"\").lower().strip()\n",
    "\n",
    "            # Metadata filters\n",
    "            #if location.lower() not in city:\n",
    "            #    continue\n",
    "            if stars < min_stars:\n",
    "                continue\n",
    "            if not any(k in cats for k in [\"cafe\", \"coffee\", \"espresso\", \"tea\"]):\n",
    "                continue\n",
    "\n",
    "            biz_meta[b[\"business_id\"]] = b\n",
    "\n",
    "    print(f\"Businesses after filtering: {len(biz_meta)}\")\n",
    "\n",
    "    # Load up to N reviews per business\n",
    "    reviews = defaultdict(list)\n",
    "    with open(rev_path, \"r\", encoding=\"utf-8\") as f:\n",
    "        for line in f:\n",
    "            r = json.loads(line)\n",
    "            bid = r[\"business_id\"]\n",
    "            if bid in biz_meta and len(reviews[bid]) < max_reviews:\n",
    "                reviews[bid].append(r[\"text\"])\n",
    "\n",
    "    print(f\"Businesses with loaded reviews: {len(reviews)}\")\n",
    "\n",
    "    # Load SBERT model and encode query\n",
    "    model = SentenceTransformer(\"all-MiniLM-L6-v2\")\n",
    "    q_emb = model.encode(query)\n",
    "\n",
    "    # Assign labels\n",
    "    gt = {}\n",
    "    for bid, info in biz_meta.items():\n",
    "        review_texts = reviews.get(bid, [])\n",
    "        if not review_texts:\n",
    "            gt[bid] = \"irrelevant\"\n",
    "            continue\n",
    "\n",
    "        combined_text = \" \".join(review_texts).lower()\n",
    "        keyword_flag = any(k in combined_text for k in query_keywords)\n",
    "\n",
    "        doc_emb = model.encode(combined_text)\n",
    "        sim = cosine_similarity([q_emb], [doc_emb]).flatten()[0]\n",
    "\n",
    "        if sim >= thresholds[0]:\n",
    "            gt[bid] = \"highly\"\n",
    "        elif sim >= thresholds[1] or keyword_flag:\n",
    "            gt[bid] = \"somewhat\"\n",
    "        else:\n",
    "            gt[bid] = \"irrelevant\"\n",
    "\n",
    "    print(f\"Final labeled businesses: {len(gt)}\")\n",
    "    return gt, biz_meta"
   ]
  },
  {
   "cell_type": "code",
   "execution_count": 46,
   "metadata": {},
   "outputs": [
    {
     "name": "stdout",
     "output_type": "stream",
     "text": [
      "Businesses after filtering: 9350\n",
      "Businesses with loaded reviews: 9350\n",
      "Final labeled businesses: 9350\n"
     ]
    }
   ],
   "source": [
    "query = \"Cafe with great lattes\"\n",
    "keywords = [\"latte\", \"coffee\", \"espresso\", \"cappuccino\"]\n",
    "location = \"san francisco\"\n",
    " \n",
    "gt, meta = build_ground_truth_level_A_plus_all(\n",
    "    \"yelp_academic_dataset_business.json\",\n",
    "    \"yelp_academic_dataset_review.json\",\n",
    "    query=query,\n",
    "    query_keywords=keywords,\n",
    "    location=location,\n",
    "    min_stars=3.0,\n",
    "    thresholds=(0.4, 0.1)  # more forgiving if needed\n",
    ")\n",
    " \n",
    "# Save to file\n",
    "with open(\"ground_truth_level_A_plus_all.json\", \"w\") as f:\n",
    "    json.dump({query: gt}, f, indent=2)"
   ]
  },
  {
   "cell_type": "code",
   "execution_count": 52,
   "metadata": {},
   "outputs": [
    {
     "name": "stdout",
     "output_type": "stream",
     "text": [
      "734\n"
     ]
    }
   ],
   "source": [
    "number_of_ids_found = 0\n",
    "for id, _ in scores[:1000]:\n",
    "\n",
    "    if id in meta: number_of_ids_found += 1\n",
    "\n",
    "print(number_of_ids_found)"
   ]
  }
 ],
 "metadata": {
  "kernelspec": {
   "display_name": "Python 3",
   "language": "python",
   "name": "python3"
  },
  "language_info": {
   "codemirror_mode": {
    "name": "ipython",
    "version": 3
   },
   "file_extension": ".py",
   "mimetype": "text/x-python",
   "name": "python",
   "nbconvert_exporter": "python",
   "pygments_lexer": "ipython3",
   "version": "3.12.9"
  }
 },
 "nbformat": 4,
 "nbformat_minor": 2
}
