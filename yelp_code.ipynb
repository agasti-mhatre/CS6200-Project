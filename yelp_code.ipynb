{
  "cells": [
    {
      "cell_type": "code",
      "execution_count": 29,
      "metadata": {
        "colab": {
          "base_uri": "https://localhost:8080/"
        },
        "id": "1oFcQ7iY3y-p",
        "outputId": "74e40893-97ec-4bd7-a472-337b971e0dda"
      },
      "outputs": [
        {
          "output_type": "stream",
          "name": "stderr",
          "text": [
            "[nltk_data] Downloading package punkt_tab to /root/nltk_data...\n",
            "[nltk_data]   Package punkt_tab is already up-to-date!\n"
          ]
        },
        {
          "output_type": "execute_result",
          "data": {
            "text/plain": [
              "True"
            ]
          },
          "metadata": {},
          "execution_count": 29
        }
      ],
      "source": [
        "# Import necessary libraries\n",
        "\n",
        "import json\n",
        "import joblib\n",
        "from collections import defaultdict\n",
        "from sentence_transformers import SentenceTransformer\n",
        "import numpy as np\n",
        "# import faiss\n",
        "import scipy.sparse\n",
        "\n",
        "from sklearn.feature_extraction.text import TfidfVectorizer\n",
        "from sklearn.metrics.pairwise import cosine_similarity\n",
        "\n",
        "\n",
        "import nltk\n",
        "from nltk.tokenize import word_tokenize\n",
        "\n",
        "nltk.download('punkt_tab')"
      ]
    },
    {
      "cell_type": "code",
      "source": [
        "from google.colab import drive\n",
        "drive.mount('/content/drive', force_remount=True)"
      ],
      "metadata": {
        "colab": {
          "base_uri": "https://localhost:8080/"
        },
        "id": "sYSkBlFe31GK",
        "outputId": "2ff260f4-a911-4ebc-ad9a-be9c9342dcf2"
      },
      "execution_count": 30,
      "outputs": [
        {
          "output_type": "stream",
          "name": "stdout",
          "text": [
            "Mounted at /content/drive\n"
          ]
        }
      ]
    },
    {
      "cell_type": "code",
      "source": [
        "import requests\n",
        "url = 'https://northeastern-my.sharepoint.com/personal/mhatre_ag_northeastern_edu/_layouts/15/download.aspx?UniqueId=3e78d9923545475397681c5e8a47383d&e=gTeFhD'  # Replace with actual link\n",
        "r = requests.get(url, allow_redirects=True)\n",
        "url1 = 'https://northeastern-my.sharepoint.com/personal/mhatre_ag_northeastern_edu/_layouts/15/download.aspx?UniqueId=a6e25a75d96e42139fc5b23ba7a7bc1b&e=S9FI43'  # Replace with actual link\n",
        "r = requests.get(url1, allow_redirects=True)"
      ],
      "metadata": {
        "id": "jSdy0HSR3W0F"
      },
      "execution_count": 31,
      "outputs": []
    },
    {
      "cell_type": "markdown",
      "metadata": {
        "id": "EYyEQXug3y-r"
      },
      "source": [
        "## Step 1: Join business dataset with reviews dataset. Tokenize reviews and convert to lowercase"
      ]
    },
    {
      "cell_type": "code",
      "execution_count": 32,
      "metadata": {
        "id": "QPaKCoQS3y-r"
      },
      "outputs": [],
      "source": [
        "# Store reviews for each business\n",
        "import random\n",
        "business_information = defaultdict(lambda: {\"reviews\": []})\n",
        "\n",
        "with open(\"/content/drive/MyDrive/yelp_academic_dataset_review.json\", \"r\", encoding=\"utf-8\") as file:\n",
        "    for line in file:\n",
        "        # Keep only 10% of the lines\n",
        "        if random.random() <= 0.10:\n",
        "            curr = json.loads(line)\n",
        "            business_information[curr[\"business_id\"]][\"reviews\"].append(curr[\"text\"])"
      ]
    },
    {
      "cell_type": "code",
      "execution_count": 39,
      "metadata": {
        "id": "czkX5Yza3y-r"
      },
      "outputs": [],
      "source": [
        "# Extract business-specific data and store in dictionary\n",
        "with open(\"/content/drive/MyDrive/yelp_academic_dataset_business.json\", \"r\", encoding=\"utf-8\") as file:\n",
        "\n",
        "    for line in file:\n",
        "\n",
        "        curr = json.loads(line)\n",
        "        business_information[curr[\"business_id\"]][\"name\"] = curr[\"name\"]\n",
        "        business_information[curr[\"business_id\"]][\"address\"] = curr[\"address\"]\n",
        "        business_information[curr[\"business_id\"]][\"city\"] = curr[\"city\"]\n",
        "        business_information[curr[\"business_id\"]][\"state\"] = curr[\"state\"]\n",
        "        business_information[curr[\"business_id\"]][\"latitude\"] = curr[\"latitude\"]\n",
        "        business_information[curr[\"business_id\"]][\"longitude\"] = curr[\"longitude\"]\n",
        "        business_information[curr[\"business_id\"]][\"stars\"] = curr[\"stars\"]\n",
        "        business_information[curr[\"business_id\"]][\"categories\"] = curr[\"categories\"]"
      ]
    },
    {
      "cell_type": "code",
      "execution_count": 34,
      "metadata": {
        "id": "cP9sfsu53y-r"
      },
      "outputs": [],
      "source": [
        "# Tokenize reviews and convert all tokens to lowercase\n",
        "tokenized_business_information = defaultdict(lambda: {\"reviews\": []})\n",
        "\n",
        "for id_ in business_information.keys():\n",
        "\n",
        "    for review in business_information[id_][\"reviews\"]:\n",
        "\n",
        "      if random.random() <= 0.10:\n",
        "\n",
        "        tokenized_business_information[id_][\"reviews\"].append([word.lower() for word in word_tokenize(review)])"
      ]
    },
    {
      "cell_type": "code",
      "execution_count": 35,
      "metadata": {
        "id": "dvdqfEQH3y-r"
      },
      "outputs": [],
      "source": [
        "# Write joined, tokenized business/review data to a file\n",
        "with open('business_with_reviews.json', 'w') as f:\n",
        "    for key, value in tokenized_business_information.items():\n",
        "        json.dump({key: value}, f)\n",
        "        f.write('\\n')"
      ]
    },
    {
      "cell_type": "markdown",
      "source": [
        "## B+\n",
        "\n",
        "2 Problems:\n",
        "1. Can't extract user lat or lon\n",
        "2. Have to hardcode every bordering state"
      ],
      "metadata": {
        "id": "iFWnIi-QAjjC"
      }
    },
    {
      "cell_type": "code",
      "source": [
        "user_state = \"CA\"\n",
        "user_lat = 37.77   # San Francisco\n",
        "user_lon = -122.42\n",
        "# Hardcode every brodering state\n",
        "bordering_states = {\n",
        "    'AL': ['FL', 'GA', 'MS', 'TN'],\n",
        "    'AK': [],\n",
        "    'AZ': ['CA', 'CO', 'NM', 'NV', 'UT'],\n",
        "    'AR': ['LA', 'MO', 'MS', 'OK', 'TN', 'TX'],\n",
        "    'CA': ['AZ', 'NV', 'OR'],\n",
        "    'CO': ['AZ', 'KS', 'NE', 'NM', 'OK', 'UT', 'WY'],\n",
        "    'CT': ['MA', 'NY', 'RI'],\n",
        "    'DE': ['MD', 'NJ', 'PA'],\n",
        "    'FL': ['AL', 'GA'],\n",
        "    'GA': ['AL', 'FL', 'NC', 'SC', 'TN'],\n",
        "    'HI': [],\n",
        "    'ID': ['MT', 'NV', 'OR', 'UT', 'WA', 'WY'],\n",
        "    'IL': ['IA', 'IN', 'KY', 'MO', 'WI'],\n",
        "    'IN': ['IL', 'KY', 'MI', 'OH'],\n",
        "    'IA': ['IL', 'MN', 'MO', 'NE', 'SD', 'WI'],\n",
        "    'KS': ['CO', 'MO', 'NE', 'OK'],\n",
        "    'KY': ['IL', 'IN', 'MO', 'OH', 'TN', 'VA', 'WV'],\n",
        "    'LA': ['AR', 'MS', 'TX'],\n",
        "    'ME': ['NH'],\n",
        "    'MD': ['DE', 'PA', 'VA', 'WV'],\n",
        "    'MA': ['CT', 'NH', 'NY', 'RI', 'VT'],\n",
        "    'MI': ['IN', 'OH', 'WI'],\n",
        "    'MN': ['IA', 'ND', 'SD', 'WI'],\n",
        "    'MS': ['AL', 'AR', 'LA', 'TN'],\n",
        "    'MO': ['AR', 'IA', 'IL', 'KS', 'KY', 'NE', 'OK', 'TN'],\n",
        "    'MT': ['ID', 'ND', 'SD', 'WY'],\n",
        "    'NE': ['CO', 'IA', 'KS', 'MO', 'SD', 'WY'],\n",
        "    'NV': ['AZ', 'CA', 'ID', 'OR', 'UT'],\n",
        "    'NH': ['MA', 'ME', 'VT'],\n",
        "    'NJ': ['DE', 'NY', 'PA'],\n",
        "    'NM': ['AZ', 'CO', 'OK', 'TX', 'UT'],\n",
        "    'NY': ['CT', 'MA', 'NJ', 'PA', 'VT'],\n",
        "    'NC': ['GA', 'SC', 'TN', 'VA'],\n",
        "    'ND': ['MN', 'MT', 'SD'],\n",
        "    'OH': ['IN', 'KY', 'MI', 'PA', 'WV'],\n",
        "    'OK': ['AR', 'CO', 'KS', 'MO', 'NM', 'TX'],\n",
        "    'OR': ['CA', 'ID', 'NV', 'WA'],\n",
        "    'PA': ['DE', 'MD', 'NJ', 'NY', 'OH', 'WV'],\n",
        "    'RI': ['CT', 'MA'],\n",
        "    'SC': ['GA', 'NC'],\n",
        "    'SD': ['IA', 'MN', 'MT', 'ND', 'NE', 'WY'],\n",
        "    'TN': ['AL', 'AR', 'GA', 'KY', 'MO', 'MS', 'NC', 'VA'],\n",
        "    'TX': ['AR', 'LA', 'NM', 'OK'],\n",
        "    'UT': ['AZ', 'CO', 'ID', 'NV', 'NM', 'WY'],\n",
        "    'VT': ['MA', 'NH', 'NY'],\n",
        "    'VA': ['KY', 'MD', 'NC', 'TN', 'WV'],\n",
        "    'WA': ['ID', 'OR'],\n",
        "    'WV': ['KY', 'MD', 'OH', 'PA', 'VA'],\n",
        "    'WI': ['IA', 'IL', 'MI', 'MN'],\n",
        "    'WY': ['CO', 'ID', 'MT', 'NE', 'SD', 'UT']\n",
        "}"
      ],
      "metadata": {
        "id": "rm4DvwvJANco"
      },
      "execution_count": 64,
      "outputs": []
    },
    {
      "cell_type": "code",
      "source": [
        "from math import radians, cos, sin, asin, sqrt\n",
        "\n",
        "def haversine(lat1, lon1, lat2, lon2):\n",
        "    lat1, lon1, lat2, lon2 = map(radians, [lat1, lon1, lat2, lon2])\n",
        "    angle = sin((lat2 - lat1)/2)**2 + cos(lat1) * cos(lat2) * sin((lon2 - lon1)/2)**2\n",
        "    dist = 2 * asin(sqrt(angle))\n",
        "    return dist * 6371"
      ],
      "metadata": {
        "id": "a8e7q5IYAsZT"
      },
      "execution_count": 65,
      "outputs": []
    },
    {
      "cell_type": "code",
      "source": [
        "def extract_2nd(a):\n",
        "    return a[1]\n",
        "\n",
        "def rank_by_location(query, state_u, lat_u, lon_u):\n",
        "    restaurant_values = []\n",
        "    allowed_states = [state_u] + bordering_states.get(state_u, [])\n",
        "\n",
        "    for bid, info in business_information.items():\n",
        "        # Check if any info is empty\n",
        "        lat, lon = info.get(\"latitude\"), info.get(\"longitude\")\n",
        "        if lon is None or lat is None:\n",
        "            continue\n",
        "        if \"reviews\" not in info or not info[\"reviews\"]:\n",
        "            continue\n",
        "        # Check if the state is close, if not skip\n",
        "        if info.get(\"state\") not in allowed_states:\n",
        "            continue\n",
        "\n",
        "        # Find distance\n",
        "        distance = haversine(lat_u, lon_u, lat, lon)\n",
        "        # Points system, subject to change, penalty for far restaurants\n",
        "        value = info[\"stars\"] - 0.005 * distance\n",
        "        restaurant_values.append((bid, value))\n",
        "\n",
        "    return sorted(restaurant_values, key=extract_2nd, reverse=True)[:10]"
      ],
      "metadata": {
        "id": "1bCw_s2gAuSl"
      },
      "execution_count": 66,
      "outputs": []
    },
    {
      "cell_type": "code",
      "source": [
        "results = rank_by_location(\"vegan\", user_state, user_lat, user_lon)\n",
        "\n",
        "for n, value in results:\n",
        "    name = business_information[n][\"name\"]\n",
        "    print(f\"{name} ({n}): score = {value:.2f}\")"
      ],
      "metadata": {
        "colab": {
          "base_uri": "https://localhost:8080/"
        },
        "id": "kG3c0qRAA11Q",
        "outputId": "a08c795c-a9be-4566-c873-5a9bd4db1a5d"
      },
      "execution_count": 68,
      "outputs": [
        {
          "output_type": "stream",
          "name": "stdout",
          "text": [
            "SPE Painting (dytaCbK9750lx2PehZ7UHQ): score = 3.65\n",
            "Tributary Whitewater Tours (VMP_tCZXcuJuiNUCBshd8w): score = 3.65\n",
            "Eastside Deli (D5n8XvQqC_vzOCi63wNChQ): score = 3.65\n",
            "Raft California (_dLINFtHKdhescCZiPkPlA): score = 3.64\n",
            "Saturno Home Inspection (F4cezLy3xwbzCXG4lww74w): score = 3.64\n",
            "Tahoe Meadows (EUvK_xnJb_ZbMZ1T5uTBUQ): score = 3.62\n",
            "Sterling Detail (s9qQ2WAvlsckxabl4AEO4w): score = 3.59\n",
            "HydroClean Carpets (oLWDXU_zB3_X3Yo2OJ0UXQ): score = 3.59\n",
            "Greg's Small Engine (Z3EgjzkQ7azKPxlsMpRnGw): score = 3.59\n",
            "Wedge on Wheels (zGt9mEjNHiuJxcuDwqZtRw): score = 3.59\n"
          ]
        }
      ]
    },
    {
      "cell_type": "markdown",
      "metadata": {
        "id": "lhr5P0EU3y-r"
      },
      "source": [
        "## Step 2: Output scores for TFIDF ranker"
      ]
    },
    {
      "cell_type": "code",
      "execution_count": null,
      "metadata": {
        "id": "Vz8ZsKRG3y-r"
      },
      "outputs": [],
      "source": [
        "# Read in business reviews from JSON file\n",
        "business_reviews = dict()\n",
        "\n",
        "with open('business_with_reviews.json', 'r') as f:\n",
        "\n",
        "    for line in f:\n",
        "\n",
        "        record = json.loads(line)\n",
        "        business_reviews.update(record)"
      ]
    },
    {
      "cell_type": "code",
      "execution_count": null,
      "metadata": {
        "id": "hE_xR_h13y-s"
      },
      "outputs": [],
      "source": [
        "# Test one query on the entire dataset, check results\n",
        "business_ids = list(business_reviews.keys())\n",
        "corpus = []\n",
        "for id_ in business_ids:\n",
        "\n",
        "    # Each business review is condensed down into a single, long sentence\n",
        "    # so that TFIDF and other embedding techniques could be applied\n",
        "    corpus.append(\" \".join(\" \".join(tokens) for tokens in business_reviews[id_][\"reviews\"]))"
      ]
    },
    {
      "cell_type": "code",
      "execution_count": null,
      "metadata": {
        "id": "f4oVrwkS3y-s"
      },
      "outputs": [],
      "source": [
        "# Create TFIDF vector and train vectorizer\n",
        "vectorizer = TfidfVectorizer()\n",
        "tfidf_matrix = vectorizer.fit_transform(corpus)\n",
        "\n",
        "# Persist vector and model\n",
        "joblib.dump(vectorizer, 'tfidf_vectorizer.joblib')\n",
        "scipy.sparse.save_npz(\"tfidf_matrix.npz\", tfidf_matrix)"
      ]
    },
    {
      "cell_type": "code",
      "execution_count": null,
      "metadata": {
        "id": "PDyhvKDC3y-s"
      },
      "outputs": [],
      "source": [
        "# Reinitialize vectorizer and tfidf_matrix if session is lost\n",
        "vectorizer = joblib.load('tfidf_vectorizer.joblib')\n",
        "tfidf_matrix = scipy.sparse.load_npz(\"tfidf_matrix.npz\")"
      ]
    },
    {
      "cell_type": "code",
      "execution_count": null,
      "metadata": {
        "id": "EqLVb_wG3y-s"
      },
      "outputs": [],
      "source": [
        "# Transform query so that it fits into TFIDF vector space\n",
        "query = \"cafe with great lattes in san francisco\"\n",
        "query_vec = vectorizer.transform([query])\n",
        "\n",
        "# Use cosine similarity to find most similar document for the query\n",
        "similarities = cosine_similarity(query_vec, tfidf_matrix).flatten()"
      ]
    },
    {
      "cell_type": "code",
      "execution_count": null,
      "metadata": {
        "id": "2bUjUFkV3y-s"
      },
      "outputs": [],
      "source": [
        "# Match up business ids with similarity scores\n",
        "scores = []\n",
        "\n",
        "n = len(business_ids)\n",
        "for i in range(n): scores.append((business_ids[i], similarities[i]))\n",
        "\n",
        "# Sort based on score; sort in descending order\n",
        "scores.sort(key = lambda x: x[1], reverse=True)"
      ]
    },
    {
      "cell_type": "code",
      "execution_count": null,
      "metadata": {
        "id": "kb1UU0u33y-s"
      },
      "outputs": [],
      "source": [
        "# Print out top 10 results\n",
        "for id, _ in scores[:10]:\n",
        "\n",
        "    print(business_information[id][\"name\"])"
      ]
    },
    {
      "cell_type": "markdown",
      "metadata": {
        "id": "pgulBcJi3y-s"
      },
      "source": [
        "## Step 3: Create/Store Embeddings and Use FAISS to generate scores, Compare to token-matching ranker"
      ]
    },
    {
      "cell_type": "code",
      "execution_count": null,
      "metadata": {
        "id": "VT6Dgh1B3y-s"
      },
      "outputs": [],
      "source": [
        "# Use transformer architecture to create dense vector embeddings\n",
        "# from query and restaurant reviews\n",
        "# all = general purpose transformer\n",
        "# MiniLM = lightweight transformer similar to BERT\n",
        "# L6 = six layers\n",
        "# v2 = version two\n",
        "model = SentenceTransformer(\"all-MiniLM-L6-v2\")\n",
        "\n",
        "# Create embeddings from the reviews\n",
        "embeddings = model.encode(corpus, convert_to_numpy=True)\n",
        "dimension = embeddings.shape[1]\n",
        "\n",
        "# Create FAISS index for similarity search\n",
        "index = faiss.IndexFlatL2(dimension)\n",
        "index.add(embeddings)"
      ]
    },
    {
      "cell_type": "code",
      "execution_count": null,
      "metadata": {
        "id": "vn899tTv3y-s"
      },
      "outputs": [],
      "source": [
        "# Persist index to file\n",
        "faiss.write_index(index, \"business_index.faiss\")"
      ]
    },
    {
      "cell_type": "code",
      "execution_count": null,
      "metadata": {
        "id": "B5clJ_p93y-s"
      },
      "outputs": [],
      "source": [
        "# Read index back from file if session is lost\n",
        "index = faiss.read_index(\"business_index.faiss\")"
      ]
    },
    {
      "cell_type": "code",
      "execution_count": null,
      "metadata": {
        "id": "f9wVXdpc3y-s"
      },
      "outputs": [],
      "source": [
        "# Check results of test query\n",
        "query = \"cafe with great lattes in san francisco\"\n",
        "query_vec = model.encode([query], convert_to_numpy=True)\n",
        "\n",
        "# Get top k results\n",
        "k = 50\n",
        "D, I = index.search(query_vec, k)\n",
        "top_businesses = [business_ids[i] for i in I[0]]\n",
        "\n",
        "for id in top_businesses:\n",
        "\n",
        "    print(business_information[id][\"name\"])"
      ]
    }
  ],
  "metadata": {
    "kernelspec": {
      "display_name": "Python 3",
      "language": "python",
      "name": "python3"
    },
    "language_info": {
      "codemirror_mode": {
        "name": "ipython",
        "version": 3
      },
      "file_extension": ".py",
      "mimetype": "text/x-python",
      "name": "python",
      "nbconvert_exporter": "python",
      "pygments_lexer": "ipython3",
      "version": "3.12.9"
    },
    "colab": {
      "provenance": []
    }
  },
  "nbformat": 4,
  "nbformat_minor": 0
}