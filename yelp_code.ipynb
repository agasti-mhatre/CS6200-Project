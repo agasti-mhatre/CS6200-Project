{
 "cells": [
  {
   "cell_type": "code",
   "execution_count": 42,
   "metadata": {},
   "outputs": [
    {
     "name": "stderr",
     "output_type": "stream",
     "text": [
      "[nltk_data] Downloading package punkt_tab to\n",
      "[nltk_data]     /Users/agastimhatre/nltk_data...\n",
      "[nltk_data]   Package punkt_tab is already up-to-date!\n"
     ]
    },
    {
     "data": {
      "text/plain": [
       "True"
      ]
     },
     "execution_count": 42,
     "metadata": {},
     "output_type": "execute_result"
    }
   ],
   "source": [
    "# Import necessary libraries\n",
    "\n",
    "import json\n",
    "import joblib\n",
    "from collections import defaultdict\n",
    "from sentence_transformers import SentenceTransformer\n",
    "import numpy as np\n",
    "import faiss\n",
    "import scipy.sparse\n",
    "from sklearn.feature_extraction.text import TfidfVectorizer\n",
    "from sklearn.metrics.pairwise import cosine_similarity\n",
    "\n",
    "\n",
    "import nltk\n",
    "from nltk.tokenize import word_tokenize\n",
    "\n",
    "nltk.download('punkt_tab')"
   ]
  },
  {
   "cell_type": "markdown",
   "metadata": {},
   "source": [
    "## Step 1: Join business dataset with reviews dataset. Tokenize reviews and convert to lowercase"
   ]
  },
  {
   "cell_type": "code",
   "execution_count": 43,
   "metadata": {},
   "outputs": [],
   "source": [
    "# Store reviews for each business\n",
    "business_information = defaultdict(lambda: {\"reviews\": []})\n",
    "\n",
    "with open(\"yelp_academic_dataset_review.json\", \"r\", encoding=\"utf-8\") as file:\n",
    "\n",
    "    for line in file: \n",
    "\n",
    "        curr = json.loads(line)\n",
    "        business_information[curr[\"business_id\"]][\"reviews\"].append(curr[\"text\"])"
   ]
  },
  {
   "cell_type": "code",
   "execution_count": 44,
   "metadata": {},
   "outputs": [],
   "source": [
    "# Extract business-specific data and store in dictionary\n",
    "with open(\"yelp_academic_dataset_business.json\", \"r\", encoding=\"utf-8\") as file:\n",
    "\n",
    "    for line in file:\n",
    "\n",
    "        curr = json.loads(line)\n",
    "        business_information[curr[\"business_id\"]][\"name\"] = curr[\"name\"]\n",
    "        business_information[curr[\"business_id\"]][\"address\"] = curr[\"address\"]\n",
    "        business_information[curr[\"business_id\"]][\"city\"] = curr[\"city\"]\n",
    "        business_information[curr[\"business_id\"]][\"state\"] = curr[\"state\"]\n"
   ]
  },
  {
   "cell_type": "code",
   "execution_count": null,
   "metadata": {},
   "outputs": [],
   "source": [
    "# Tokenize reviews and convert all tokens to lowercase\n",
    "tokenized_business_information = defaultdict(lambda: {\"reviews\": []})\n",
    "\n",
    "for id_ in business_information.keys():\n",
    "\n",
    "    for review in business_information[id_][\"reviews\"]:\n",
    "\n",
    "        tokenized_business_information[id_][\"reviews\"].append([word.lower() for word in word_tokenize(review)])"
   ]
  },
  {
   "cell_type": "code",
   "execution_count": null,
   "metadata": {},
   "outputs": [],
   "source": [
    "# Write joined, tokenized business/review data to a file\n",
    "with open('business_with_reviews.json', 'w') as f:\n",
    "    for key, value in tokenized_business_information.items():\n",
    "        json.dump({key: value}, f)\n",
    "        f.write('\\n')"
   ]
  },
  {
   "cell_type": "markdown",
   "metadata": {},
   "source": [
    "## Step 2: Output scores for TFIDF ranker"
   ]
  },
  {
   "cell_type": "code",
   "execution_count": 45,
   "metadata": {},
   "outputs": [],
   "source": [
    "# Read in business reviews from \n",
    "business_reviews = dict()\n",
    "\n",
    "with open('business_with_reviews.json', 'r') as f:\n",
    "\n",
    "    for line in f:\n",
    "\n",
    "        record = json.loads(line)\n",
    "        business_reviews.update(record)"
   ]
  },
  {
   "cell_type": "code",
   "execution_count": null,
   "metadata": {},
   "outputs": [],
   "source": [
    "# Test one query on the entire dataset, check results\n",
    "\n",
    "business_ids = list(business_reviews.keys())\n",
    "corpus = []\n",
    "for id_ in business_ids:\n",
    "\n",
    "    corpus.append(\" \".join(\" \".join(tokens) for tokens in business_reviews[id_][\"reviews\"]))"
   ]
  },
  {
   "cell_type": "code",
   "execution_count": null,
   "metadata": {},
   "outputs": [],
   "source": [
    "# Create TFIDF vector and train vectorizer\n",
    "# Persist vector and model \n",
    "vectorizer = TfidfVectorizer()\n",
    "tfidf_matrix = vectorizer.fit_transform(corpus)\n",
    "joblib.dump(vectorizer, 'tfidf_vectorizer.joblib')\n",
    "scipy.sparse.save_npz(\"tfidf_matrix.npz\", tfidf_matrix)"
   ]
  },
  {
   "cell_type": "code",
   "execution_count": 46,
   "metadata": {},
   "outputs": [],
   "source": [
    "# Reinitialize vectorizer and tfidf_matrix if session is lost\n",
    "\n",
    "vectorizer = joblib.load('tfidf_vectorizer.joblib')\n",
    "tfidf_matrix = scipy.sparse.load_npz(\"tfidf_matrix.npz\")"
   ]
  },
  {
   "cell_type": "code",
   "execution_count": 47,
   "metadata": {},
   "outputs": [],
   "source": [
    "query = \"cafe with great lattes in san francisco\"\n",
    "query_vec = vectorizer.transform([query])\n",
    "similarities = cosine_similarity(query_vec, tfidf_matrix).flatten()"
   ]
  },
  {
   "cell_type": "code",
   "execution_count": null,
   "metadata": {},
   "outputs": [],
   "source": [
    "scores = []\n",
    "\n",
    "n = len(business_ids)\n",
    "for i in range(n): scores.append((business_ids[i], similarities[i]))\n",
    "\n",
    "scores.sort(key = lambda x: x[1], reverse=True)"
   ]
  },
  {
   "cell_type": "code",
   "execution_count": null,
   "metadata": {},
   "outputs": [],
   "source": [
    "for id, _ in scores[:10]:\n",
    "\n",
    "    print(business_information[id][\"name\"])"
   ]
  },
  {
   "cell_type": "markdown",
   "metadata": {},
   "source": [
    "## Step 3: Create/Store Embeddings and Use FAISS to generate scores, Compare to token-matching ranker"
   ]
  }
 ],
 "metadata": {
  "kernelspec": {
   "display_name": "Python 3",
   "language": "python",
   "name": "python3"
  },
  "language_info": {
   "codemirror_mode": {
    "name": "ipython",
    "version": 3
   },
   "file_extension": ".py",
   "mimetype": "text/x-python",
   "name": "python",
   "nbconvert_exporter": "python",
   "pygments_lexer": "ipython3",
   "version": "3.12.9"
  }
 },
 "nbformat": 4,
 "nbformat_minor": 2
}
