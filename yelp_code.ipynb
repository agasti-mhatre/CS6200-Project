{
 "cells": [
  {
   "cell_type": "code",
   "execution_count": 42,
   "metadata": {},
   "outputs": [
    {
     "name": "stderr",
     "output_type": "stream",
     "text": [
      "[nltk_data] Downloading package punkt_tab to\n",
      "[nltk_data]     /Users/agastimhatre/nltk_data...\n",
      "[nltk_data]   Package punkt_tab is already up-to-date!\n"
     ]
    },
    {
     "data": {
      "text/plain": [
       "True"
      ]
     },
     "execution_count": 42,
     "metadata": {},
     "output_type": "execute_result"
    }
   ],
   "source": [
    "# Import necessary libraries\n",
    "\n",
    "import json\n",
    "import joblib\n",
    "from collections import defaultdict\n",
    "from sentence_transformers import SentenceTransformer\n",
    "import numpy as np\n",
    "import faiss\n",
    "import scipy.sparse\n",
    "from sklearn.feature_extraction.text import TfidfVectorizer\n",
    "from sklearn.metrics.pairwise import cosine_similarity\n",
    "\n",
    "\n",
    "import nltk\n",
    "from nltk.tokenize import word_tokenize\n",
    "\n",
    "nltk.download('punkt_tab')"
   ]
  },
  {
   "cell_type": "markdown",
   "metadata": {},
   "source": [
    "## Step 1: Join business dataset with reviews dataset. Tokenize reviews and convert to lowercase"
   ]
  },
  {
   "cell_type": "code",
   "execution_count": 43,
   "metadata": {},
   "outputs": [],
   "source": [
    "# Store reviews for each business\n",
    "business_information = defaultdict(lambda: {\"reviews\": []})\n",
    "\n",
    "with open(\"yelp_academic_dataset_review.json\", \"r\", encoding=\"utf-8\") as file:\n",
    "\n",
    "    for line in file: \n",
    "\n",
    "        curr = json.loads(line)\n",
    "        business_information[curr[\"business_id\"]][\"reviews\"].append(curr[\"text\"])"
   ]
  },
  {
   "cell_type": "code",
   "execution_count": 44,
   "metadata": {},
   "outputs": [],
   "source": [
    "# Extract business-specific data and store in dictionary\n",
    "with open(\"yelp_academic_dataset_business.json\", \"r\", encoding=\"utf-8\") as file:\n",
    "\n",
    "    for line in file:\n",
    "\n",
    "        curr = json.loads(line)\n",
    "        business_information[curr[\"business_id\"]][\"name\"] = curr[\"name\"]\n",
    "        business_information[curr[\"business_id\"]][\"address\"] = curr[\"address\"]\n",
    "        business_information[curr[\"business_id\"]][\"city\"] = curr[\"city\"]\n",
    "        business_information[curr[\"business_id\"]][\"state\"] = curr[\"state\"]\n"
   ]
  },
  {
   "cell_type": "code",
   "execution_count": null,
   "metadata": {},
   "outputs": [],
   "source": [
    "# Tokenize reviews and convert all tokens to lowercase\n",
    "tokenized_business_information = defaultdict(lambda: {\"reviews\": []})\n",
    "\n",
    "for id_ in business_information.keys():\n",
    "\n",
    "    for review in business_information[id_][\"reviews\"]:\n",
    "\n",
    "        tokenized_business_information[id_][\"reviews\"].append([word.lower() for word in word_tokenize(review)])"
   ]
  },
  {
   "cell_type": "code",
   "execution_count": null,
   "metadata": {},
   "outputs": [],
   "source": [
    "# Write joined, tokenized business/review data to a file\n",
    "with open('business_with_reviews.json', 'w') as f:\n",
    "    for key, value in tokenized_business_information.items():\n",
    "        json.dump({key: value}, f)\n",
    "        f.write('\\n')"
   ]
  },
  {
   "cell_type": "markdown",
   "metadata": {},
   "source": [
    "## Step 2: Output scores for TFIDF ranker"
   ]
  },
  {
   "cell_type": "code",
   "execution_count": 45,
   "metadata": {},
   "outputs": [],
   "source": [
    "# Read in business reviews from \n",
    "business_reviews = dict()\n",
    "\n",
    "with open('business_with_reviews.json', 'r') as f:\n",
    "\n",
    "    for line in f:\n",
    "\n",
    "        record = json.loads(line)\n",
    "        business_reviews.update(record)"
   ]
  },
  {
   "cell_type": "code",
   "execution_count": 50,
   "metadata": {},
   "outputs": [],
   "source": [
    "# Test one query on the entire dataset, check results\n",
    "\n",
    "business_ids = list(business_reviews.keys())\n",
    "corpus = []\n",
    "for id_ in business_ids:\n",
    "\n",
    "    corpus.append(\" \".join(\" \".join(tokens) for tokens in business_reviews[id_][\"reviews\"]))"
   ]
  },
  {
   "cell_type": "code",
   "execution_count": null,
   "metadata": {},
   "outputs": [],
   "source": [
    "# Create TFIDF vector and train vectorizer\n",
    "# Persist vector and model\n",
    "\n",
    "vectorizer = TfidfVectorizer()\n",
    "tfidf_matrix = vectorizer.fit_transform(corpus)\n",
    "joblib.dump(vectorizer, 'tfidf_vectorizer.joblib')\n",
    "scipy.sparse.save_npz(\"tfidf_matrix.npz\", tfidf_matrix)"
   ]
  },
  {
   "cell_type": "code",
   "execution_count": 46,
   "metadata": {},
   "outputs": [],
   "source": [
    "# Reinitialize vectorizer and tfidf_matrix if session is lost\n",
    "\n",
    "vectorizer = joblib.load('tfidf_vectorizer.joblib')\n",
    "tfidf_matrix = scipy.sparse.load_npz(\"tfidf_matrix.npz\")"
   ]
  },
  {
   "cell_type": "code",
   "execution_count": 47,
   "metadata": {},
   "outputs": [],
   "source": [
    "query = \"cafe with great lattes in san francisco\"\n",
    "query_vec = vectorizer.transform([query])\n",
    "similarities = cosine_similarity(query_vec, tfidf_matrix).flatten()"
   ]
  },
  {
   "cell_type": "code",
   "execution_count": 48,
   "metadata": {},
   "outputs": [],
   "source": [
    "scores = []\n",
    "\n",
    "n = len(business_ids)\n",
    "for i in range(n): scores.append((business_ids[i], similarities[i]))\n",
    "\n",
    "scores.sort(key = lambda x: x[1], reverse=True)"
   ]
  },
  {
   "cell_type": "code",
   "execution_count": 49,
   "metadata": {},
   "outputs": [
    {
     "name": "stdout",
     "output_type": "stream",
     "text": [
      "Vico's Mobile Auto Detailing\n",
      "Francisco's Mobile Auto Detailing\n",
      "GET Cafe\n",
      "HOME Page Cafe\n",
      "Grand Cafe & Bistro\n",
      "La Mademoiselle Marvelous Pastries and Cafe\n",
      "The Grind House\n",
      "Cafe Lavi\n",
      "Black Press Coffee Shop #003\n",
      "T cafe\n"
     ]
    }
   ],
   "source": [
    "for id, _ in scores[:10]:\n",
    "\n",
    "    print(business_information[id][\"name\"])"
   ]
  },
  {
   "cell_type": "markdown",
   "metadata": {},
   "source": [
    "## Step 3: Create/Store Embeddings and Use FAISS to generate scores, Compare to token-matching ranker"
   ]
  },
  {
   "cell_type": "code",
   "execution_count": 51,
   "metadata": {},
   "outputs": [
    {
     "name": "stderr",
     "output_type": "stream",
     "text": [
      "Xet Storage is enabled for this repo, but the 'hf_xet' package is not installed. Falling back to regular HTTP download. For better performance, install the package with: `pip install huggingface_hub[hf_xet]` or `pip install hf_xet`\n"
     ]
    }
   ],
   "source": [
    "model = SentenceTransformer(\"all-MiniLM-L6-v2\")\n",
    "\n",
    "embeddings = model.encode(corpus, convert_to_numpy=True)\n",
    "dimension = embeddings.shape[1]\n",
    "\n",
    "index = faiss.IndexFlatL2(dimension)\n",
    "index.add(embeddings)"
   ]
  },
  {
   "cell_type": "code",
   "execution_count": 52,
   "metadata": {},
   "outputs": [],
   "source": [
    "faiss.write_index(index, \"business_index.faiss\")"
   ]
  },
  {
   "cell_type": "code",
   "execution_count": null,
   "metadata": {},
   "outputs": [
    {
     "name": "stdout",
     "output_type": "stream",
     "text": [
      "Top results: ['0iHHsSqphxrBWWecYEJcuQ', '9Ekfby4OgzWs96RO8M4tnQ', 'q5Kb63rdNPDJ0MoVtq3KLg', 'qUH2FppY7RL96F5tXzA0hQ', 'vDgT0MyVtWZNX4X9j6EsMg', '_P6AQUbyQltYRcQNrQ8plw', 'gH3fKYUCsjIrIvGgXzXdfA', 'r5--kPhTvamXmN7ZMbUUYQ', 'ngkjYkjJcPQ28gDub3R0IQ', 'AuVDe2eYGHpEmgSMhw0T3Q', 'PC0z5dgURsstoS0-APO4qA', 'xcdT294axowe3Tj-04tHIA', 'uEv1I-0r82Krj4eEysjC4A', 'PCmoZ6i5fXLKti6SmykDNg', 'z2d0Pg8dqLUkrCMVvyYhxw', 'nMn4CTJQPXqpgLltYQrxMA', 'tZU9d-czS4VfY72zE0Homg', 'DQ40RrKUpAra--v6C0Q_2A', 'hzkeaiW4tG0H_nHG31JuVA', 'UxP1VK4lTLKRu9cgjGhdaw', '642kv5mYCqYr6COe49HMzA', 'TqE83vo_rs4h4EycnuLI6g', '-DlF6neBa1HKx7aFi3ZxOg', 'nBr6NgqcZz1GhtAngU0RSQ', 'FRKqZwXnJqPSdtGW-7nwpw', 'cCwGNGOCvhigKOLSFUaVDg', 'eX1eHyJ6iYD1rzfzEox43w', 'VKsqpZVSFgvAkTm5NNU47w', 'h22117eMO-kVtCOLYYL6GA', 'Envz99GhwMkfMg7LzDQeUQ', 'SUpQ7uFtXvdzgVubewMV8g', 'ws0mjFrkanX_sXoUVRh8Uw', 'gXwHMtF-PLNG_9n7t9IxBA', '6F4JadEP6ouUvNiIKr8pMg', 'BUmzDaCXu44GNjvtdePVTQ', 'joCDK7kg-03uo4rZK5X0_A', 'DgF4_72z6UkiGxtPnSJCfg', 'WeU7pN8VmkhxiVD71-pWGA', 'a-ouU5dKcMOYgOkftIX1YA', 'ugfoID6LrdwiqYUSdhkqAw', 'M-mSxEpERB0_Lk7J20WjPA', '69ccjOpx2iFvr1y2qas9uA', 'wJGuXhM6Tmx4gEp2IiTBHA', 'kWHawNFXosP5KsQyM062Gw', 'GqQSFMLaM25zcM5OnCWnnQ', 'aROhaLh-dqtt-h6BG-gn2w', 'r_UPGh9GHMyBhPVMKVxRuw', 'xIDR-NE20QJfuBvpBmNb_w', 'ASKMKkejMCoFA4gIfdhbNw', 'DchoWk5R3ZSkvVs59e2PpA']\n"
     ]
    }
   ],
   "source": [
    "query = \"cafe with great lattes in san francisco\"\n",
    "query_vec = model.encode([query], convert_to_numpy=True)\n",
    "k = 50\n",
    "D, I = index.search(query_vec, k)\n",
    "top_businesses = [business_ids[i] for i in I[0]]\n",
    "\n",
    "for id in top_businesses:\n",
    "\n",
    "    print(business_information[id][\"name\"])"
   ]
  }
 ],
 "metadata": {
  "kernelspec": {
   "display_name": "Python 3",
   "language": "python",
   "name": "python3"
  },
  "language_info": {
   "codemirror_mode": {
    "name": "ipython",
    "version": 3
   },
   "file_extension": ".py",
   "mimetype": "text/x-python",
   "name": "python",
   "nbconvert_exporter": "python",
   "pygments_lexer": "ipython3",
   "version": "3.12.9"
  }
 },
 "nbformat": 4,
 "nbformat_minor": 2
}
