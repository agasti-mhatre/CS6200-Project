{
  "cells": [
    {
      "cell_type": "code",
      "source": [
        "!pip install faiss-cpu sentence-transformers"
      ],
      "metadata": {
        "colab": {
          "base_uri": "https://localhost:8080/",
          "height": 1000
        },
        "id": "X1Gypjptkh3t",
        "outputId": "414e3dab-84d0-4aaf-ff27-58d97f889380"
      },
      "execution_count": 2,
      "outputs": [
        {
          "output_type": "stream",
          "name": "stdout",
          "text": [
            "Collecting faiss-cpu\n",
            "  Downloading faiss_cpu-1.10.0-cp311-cp311-manylinux_2_28_x86_64.whl.metadata (4.4 kB)\n",
            "Requirement already satisfied: sentence-transformers in /usr/local/lib/python3.11/dist-packages (3.4.1)\n",
            "Requirement already satisfied: numpy<3.0,>=1.25.0 in /usr/local/lib/python3.11/dist-packages (from faiss-cpu) (2.0.2)\n",
            "Requirement already satisfied: packaging in /usr/local/lib/python3.11/dist-packages (from faiss-cpu) (24.2)\n",
            "Requirement already satisfied: transformers<5.0.0,>=4.41.0 in /usr/local/lib/python3.11/dist-packages (from sentence-transformers) (4.51.3)\n",
            "Requirement already satisfied: tqdm in /usr/local/lib/python3.11/dist-packages (from sentence-transformers) (4.67.1)\n",
            "Requirement already satisfied: torch>=1.11.0 in /usr/local/lib/python3.11/dist-packages (from sentence-transformers) (2.6.0+cu124)\n",
            "Requirement already satisfied: scikit-learn in /usr/local/lib/python3.11/dist-packages (from sentence-transformers) (1.6.1)\n",
            "Requirement already satisfied: scipy in /usr/local/lib/python3.11/dist-packages (from sentence-transformers) (1.14.1)\n",
            "Requirement already satisfied: huggingface-hub>=0.20.0 in /usr/local/lib/python3.11/dist-packages (from sentence-transformers) (0.30.2)\n",
            "Requirement already satisfied: Pillow in /usr/local/lib/python3.11/dist-packages (from sentence-transformers) (11.1.0)\n",
            "Requirement already satisfied: filelock in /usr/local/lib/python3.11/dist-packages (from huggingface-hub>=0.20.0->sentence-transformers) (3.18.0)\n",
            "Requirement already satisfied: fsspec>=2023.5.0 in /usr/local/lib/python3.11/dist-packages (from huggingface-hub>=0.20.0->sentence-transformers) (2025.3.2)\n",
            "Requirement already satisfied: pyyaml>=5.1 in /usr/local/lib/python3.11/dist-packages (from huggingface-hub>=0.20.0->sentence-transformers) (6.0.2)\n",
            "Requirement already satisfied: requests in /usr/local/lib/python3.11/dist-packages (from huggingface-hub>=0.20.0->sentence-transformers) (2.32.3)\n",
            "Requirement already satisfied: typing-extensions>=3.7.4.3 in /usr/local/lib/python3.11/dist-packages (from huggingface-hub>=0.20.0->sentence-transformers) (4.13.2)\n",
            "Requirement already satisfied: networkx in /usr/local/lib/python3.11/dist-packages (from torch>=1.11.0->sentence-transformers) (3.4.2)\n",
            "Requirement already satisfied: jinja2 in /usr/local/lib/python3.11/dist-packages (from torch>=1.11.0->sentence-transformers) (3.1.6)\n",
            "Collecting nvidia-cuda-nvrtc-cu12==12.4.127 (from torch>=1.11.0->sentence-transformers)\n",
            "  Downloading nvidia_cuda_nvrtc_cu12-12.4.127-py3-none-manylinux2014_x86_64.whl.metadata (1.5 kB)\n",
            "Collecting nvidia-cuda-runtime-cu12==12.4.127 (from torch>=1.11.0->sentence-transformers)\n",
            "  Downloading nvidia_cuda_runtime_cu12-12.4.127-py3-none-manylinux2014_x86_64.whl.metadata (1.5 kB)\n",
            "Collecting nvidia-cuda-cupti-cu12==12.4.127 (from torch>=1.11.0->sentence-transformers)\n",
            "  Downloading nvidia_cuda_cupti_cu12-12.4.127-py3-none-manylinux2014_x86_64.whl.metadata (1.6 kB)\n",
            "Collecting nvidia-cudnn-cu12==9.1.0.70 (from torch>=1.11.0->sentence-transformers)\n",
            "  Downloading nvidia_cudnn_cu12-9.1.0.70-py3-none-manylinux2014_x86_64.whl.metadata (1.6 kB)\n",
            "Collecting nvidia-cublas-cu12==12.4.5.8 (from torch>=1.11.0->sentence-transformers)\n",
            "  Downloading nvidia_cublas_cu12-12.4.5.8-py3-none-manylinux2014_x86_64.whl.metadata (1.5 kB)\n",
            "Collecting nvidia-cufft-cu12==11.2.1.3 (from torch>=1.11.0->sentence-transformers)\n",
            "  Downloading nvidia_cufft_cu12-11.2.1.3-py3-none-manylinux2014_x86_64.whl.metadata (1.5 kB)\n",
            "Collecting nvidia-curand-cu12==10.3.5.147 (from torch>=1.11.0->sentence-transformers)\n",
            "  Downloading nvidia_curand_cu12-10.3.5.147-py3-none-manylinux2014_x86_64.whl.metadata (1.5 kB)\n",
            "Collecting nvidia-cusolver-cu12==11.6.1.9 (from torch>=1.11.0->sentence-transformers)\n",
            "  Downloading nvidia_cusolver_cu12-11.6.1.9-py3-none-manylinux2014_x86_64.whl.metadata (1.6 kB)\n",
            "Collecting nvidia-cusparse-cu12==12.3.1.170 (from torch>=1.11.0->sentence-transformers)\n",
            "  Downloading nvidia_cusparse_cu12-12.3.1.170-py3-none-manylinux2014_x86_64.whl.metadata (1.6 kB)\n",
            "Requirement already satisfied: nvidia-cusparselt-cu12==0.6.2 in /usr/local/lib/python3.11/dist-packages (from torch>=1.11.0->sentence-transformers) (0.6.2)\n",
            "Requirement already satisfied: nvidia-nccl-cu12==2.21.5 in /usr/local/lib/python3.11/dist-packages (from torch>=1.11.0->sentence-transformers) (2.21.5)\n",
            "Requirement already satisfied: nvidia-nvtx-cu12==12.4.127 in /usr/local/lib/python3.11/dist-packages (from torch>=1.11.0->sentence-transformers) (12.4.127)\n",
            "Collecting nvidia-nvjitlink-cu12==12.4.127 (from torch>=1.11.0->sentence-transformers)\n",
            "  Downloading nvidia_nvjitlink_cu12-12.4.127-py3-none-manylinux2014_x86_64.whl.metadata (1.5 kB)\n",
            "Requirement already satisfied: triton==3.2.0 in /usr/local/lib/python3.11/dist-packages (from torch>=1.11.0->sentence-transformers) (3.2.0)\n",
            "Requirement already satisfied: sympy==1.13.1 in /usr/local/lib/python3.11/dist-packages (from torch>=1.11.0->sentence-transformers) (1.13.1)\n",
            "Requirement already satisfied: mpmath<1.4,>=1.1.0 in /usr/local/lib/python3.11/dist-packages (from sympy==1.13.1->torch>=1.11.0->sentence-transformers) (1.3.0)\n",
            "Requirement already satisfied: regex!=2019.12.17 in /usr/local/lib/python3.11/dist-packages (from transformers<5.0.0,>=4.41.0->sentence-transformers) (2024.11.6)\n",
            "Requirement already satisfied: tokenizers<0.22,>=0.21 in /usr/local/lib/python3.11/dist-packages (from transformers<5.0.0,>=4.41.0->sentence-transformers) (0.21.1)\n",
            "Requirement already satisfied: safetensors>=0.4.3 in /usr/local/lib/python3.11/dist-packages (from transformers<5.0.0,>=4.41.0->sentence-transformers) (0.5.3)\n",
            "Requirement already satisfied: joblib>=1.2.0 in /usr/local/lib/python3.11/dist-packages (from scikit-learn->sentence-transformers) (1.4.2)\n",
            "Requirement already satisfied: threadpoolctl>=3.1.0 in /usr/local/lib/python3.11/dist-packages (from scikit-learn->sentence-transformers) (3.6.0)\n",
            "Requirement already satisfied: MarkupSafe>=2.0 in /usr/local/lib/python3.11/dist-packages (from jinja2->torch>=1.11.0->sentence-transformers) (3.0.2)\n",
            "Requirement already satisfied: charset-normalizer<4,>=2 in /usr/local/lib/python3.11/dist-packages (from requests->huggingface-hub>=0.20.0->sentence-transformers) (3.4.1)\n",
            "Requirement already satisfied: idna<4,>=2.5 in /usr/local/lib/python3.11/dist-packages (from requests->huggingface-hub>=0.20.0->sentence-transformers) (3.10)\n",
            "Requirement already satisfied: urllib3<3,>=1.21.1 in /usr/local/lib/python3.11/dist-packages (from requests->huggingface-hub>=0.20.0->sentence-transformers) (2.3.0)\n",
            "Requirement already satisfied: certifi>=2017.4.17 in /usr/local/lib/python3.11/dist-packages (from requests->huggingface-hub>=0.20.0->sentence-transformers) (2025.1.31)\n",
            "Downloading faiss_cpu-1.10.0-cp311-cp311-manylinux_2_28_x86_64.whl (30.7 MB)\n",
            "\u001b[2K   \u001b[90m━━━━━━━━━━━━━━━━━━━━━━━━━━━━━━━━━━━━━━━━\u001b[0m \u001b[32m30.7/30.7 MB\u001b[0m \u001b[31m63.7 MB/s\u001b[0m eta \u001b[36m0:00:00\u001b[0m\n",
            "\u001b[?25hDownloading nvidia_cublas_cu12-12.4.5.8-py3-none-manylinux2014_x86_64.whl (363.4 MB)\n",
            "\u001b[2K   \u001b[90m━━━━━━━━━━━━━━━━━━━━━━━━━━━━━━━━━━━━━━━━\u001b[0m \u001b[32m363.4/363.4 MB\u001b[0m \u001b[31m4.1 MB/s\u001b[0m eta \u001b[36m0:00:00\u001b[0m\n",
            "\u001b[?25hDownloading nvidia_cuda_cupti_cu12-12.4.127-py3-none-manylinux2014_x86_64.whl (13.8 MB)\n",
            "\u001b[2K   \u001b[90m━━━━━━━━━━━━━━━━━━━━━━━━━━━━━━━━━━━━━━━━\u001b[0m \u001b[32m13.8/13.8 MB\u001b[0m \u001b[31m64.8 MB/s\u001b[0m eta \u001b[36m0:00:00\u001b[0m\n",
            "\u001b[?25hDownloading nvidia_cuda_nvrtc_cu12-12.4.127-py3-none-manylinux2014_x86_64.whl (24.6 MB)\n",
            "\u001b[2K   \u001b[90m━━━━━━━━━━━━━━━━━━━━━━━━━━━━━━━━━━━━━━━━\u001b[0m \u001b[32m24.6/24.6 MB\u001b[0m \u001b[31m35.5 MB/s\u001b[0m eta \u001b[36m0:00:00\u001b[0m\n",
            "\u001b[?25hDownloading nvidia_cuda_runtime_cu12-12.4.127-py3-none-manylinux2014_x86_64.whl (883 kB)\n",
            "\u001b[2K   \u001b[90m━━━━━━━━━━━━━━━━━━━━━━━━━━━━━━━━━━━━━━━━\u001b[0m \u001b[32m883.7/883.7 kB\u001b[0m \u001b[31m55.0 MB/s\u001b[0m eta \u001b[36m0:00:00\u001b[0m\n",
            "\u001b[?25hDownloading nvidia_cudnn_cu12-9.1.0.70-py3-none-manylinux2014_x86_64.whl (664.8 MB)\n",
            "\u001b[2K   \u001b[90m━━━━━━━━━━━━━━━━━━━━━━━━━━━━━━━━━━━━━━━━\u001b[0m \u001b[32m664.8/664.8 MB\u001b[0m \u001b[31m2.2 MB/s\u001b[0m eta \u001b[36m0:00:00\u001b[0m\n",
            "\u001b[?25hDownloading nvidia_cufft_cu12-11.2.1.3-py3-none-manylinux2014_x86_64.whl (211.5 MB)\n",
            "\u001b[2K   \u001b[90m━━━━━━━━━━━━━━━━━━━━━━━━━━━━━━━━━━━━━━━━\u001b[0m \u001b[32m211.5/211.5 MB\u001b[0m \u001b[31m5.6 MB/s\u001b[0m eta \u001b[36m0:00:00\u001b[0m\n",
            "\u001b[?25hDownloading nvidia_curand_cu12-10.3.5.147-py3-none-manylinux2014_x86_64.whl (56.3 MB)\n",
            "\u001b[2K   \u001b[90m━━━━━━━━━━━━━━━━━━━━━━━━━━━━━━━━━━━━━━━━\u001b[0m \u001b[32m56.3/56.3 MB\u001b[0m \u001b[31m14.4 MB/s\u001b[0m eta \u001b[36m0:00:00\u001b[0m\n",
            "\u001b[?25hDownloading nvidia_cusolver_cu12-11.6.1.9-py3-none-manylinux2014_x86_64.whl (127.9 MB)\n",
            "\u001b[2K   \u001b[90m━━━━━━━━━━━━━━━━━━━━━━━━━━━━━━━━━━━━━━━━\u001b[0m \u001b[32m127.9/127.9 MB\u001b[0m \u001b[31m7.6 MB/s\u001b[0m eta \u001b[36m0:00:00\u001b[0m\n",
            "\u001b[?25hDownloading nvidia_cusparse_cu12-12.3.1.170-py3-none-manylinux2014_x86_64.whl (207.5 MB)\n",
            "\u001b[2K   \u001b[90m━━━━━━━━━━━━━━━━━━━━━━━━━━━━━━━━━━━━━━━━\u001b[0m \u001b[32m207.5/207.5 MB\u001b[0m \u001b[31m5.6 MB/s\u001b[0m eta \u001b[36m0:00:00\u001b[0m\n",
            "\u001b[?25hDownloading nvidia_nvjitlink_cu12-12.4.127-py3-none-manylinux2014_x86_64.whl (21.1 MB)\n",
            "\u001b[2K   \u001b[90m━━━━━━━━━━━━━━━━━━━━━━━━━━━━━━━━━━━━━━━━\u001b[0m \u001b[32m21.1/21.1 MB\u001b[0m \u001b[31m70.2 MB/s\u001b[0m eta \u001b[36m0:00:00\u001b[0m\n",
            "\u001b[?25hInstalling collected packages: nvidia-nvjitlink-cu12, nvidia-curand-cu12, nvidia-cufft-cu12, nvidia-cuda-runtime-cu12, nvidia-cuda-nvrtc-cu12, nvidia-cuda-cupti-cu12, nvidia-cublas-cu12, faiss-cpu, nvidia-cusparse-cu12, nvidia-cudnn-cu12, nvidia-cusolver-cu12\n",
            "  Attempting uninstall: nvidia-nvjitlink-cu12\n",
            "    Found existing installation: nvidia-nvjitlink-cu12 12.5.82\n",
            "    Uninstalling nvidia-nvjitlink-cu12-12.5.82:\n",
            "      Successfully uninstalled nvidia-nvjitlink-cu12-12.5.82\n",
            "  Attempting uninstall: nvidia-curand-cu12\n",
            "    Found existing installation: nvidia-curand-cu12 10.3.6.82\n",
            "    Uninstalling nvidia-curand-cu12-10.3.6.82:\n",
            "      Successfully uninstalled nvidia-curand-cu12-10.3.6.82\n",
            "  Attempting uninstall: nvidia-cufft-cu12\n",
            "    Found existing installation: nvidia-cufft-cu12 11.2.3.61\n",
            "    Uninstalling nvidia-cufft-cu12-11.2.3.61:\n",
            "      Successfully uninstalled nvidia-cufft-cu12-11.2.3.61\n",
            "  Attempting uninstall: nvidia-cuda-runtime-cu12\n",
            "    Found existing installation: nvidia-cuda-runtime-cu12 12.5.82\n",
            "    Uninstalling nvidia-cuda-runtime-cu12-12.5.82:\n",
            "      Successfully uninstalled nvidia-cuda-runtime-cu12-12.5.82\n",
            "  Attempting uninstall: nvidia-cuda-nvrtc-cu12\n",
            "    Found existing installation: nvidia-cuda-nvrtc-cu12 12.5.82\n",
            "    Uninstalling nvidia-cuda-nvrtc-cu12-12.5.82:\n",
            "      Successfully uninstalled nvidia-cuda-nvrtc-cu12-12.5.82\n",
            "  Attempting uninstall: nvidia-cuda-cupti-cu12\n",
            "    Found existing installation: nvidia-cuda-cupti-cu12 12.5.82\n",
            "    Uninstalling nvidia-cuda-cupti-cu12-12.5.82:\n",
            "      Successfully uninstalled nvidia-cuda-cupti-cu12-12.5.82\n",
            "  Attempting uninstall: nvidia-cublas-cu12\n",
            "    Found existing installation: nvidia-cublas-cu12 12.5.3.2\n",
            "    Uninstalling nvidia-cublas-cu12-12.5.3.2:\n",
            "      Successfully uninstalled nvidia-cublas-cu12-12.5.3.2\n",
            "  Attempting uninstall: nvidia-cusparse-cu12\n",
            "    Found existing installation: nvidia-cusparse-cu12 12.5.1.3\n",
            "    Uninstalling nvidia-cusparse-cu12-12.5.1.3:\n",
            "      Successfully uninstalled nvidia-cusparse-cu12-12.5.1.3\n",
            "  Attempting uninstall: nvidia-cudnn-cu12\n",
            "    Found existing installation: nvidia-cudnn-cu12 9.3.0.75\n",
            "    Uninstalling nvidia-cudnn-cu12-9.3.0.75:\n",
            "      Successfully uninstalled nvidia-cudnn-cu12-9.3.0.75\n",
            "  Attempting uninstall: nvidia-cusolver-cu12\n",
            "    Found existing installation: nvidia-cusolver-cu12 11.6.3.83\n",
            "    Uninstalling nvidia-cusolver-cu12-11.6.3.83:\n",
            "      Successfully uninstalled nvidia-cusolver-cu12-11.6.3.83\n",
            "Successfully installed faiss-cpu-1.10.0 nvidia-cublas-cu12-12.4.5.8 nvidia-cuda-cupti-cu12-12.4.127 nvidia-cuda-nvrtc-cu12-12.4.127 nvidia-cuda-runtime-cu12-12.4.127 nvidia-cudnn-cu12-9.1.0.70 nvidia-cufft-cu12-11.2.1.3 nvidia-curand-cu12-10.3.5.147 nvidia-cusolver-cu12-11.6.1.9 nvidia-cusparse-cu12-12.3.1.170 nvidia-nvjitlink-cu12-12.4.127\n"
          ]
        },
        {
          "output_type": "display_data",
          "data": {
            "application/vnd.colab-display-data+json": {
              "pip_warning": {
                "packages": [
                  "nvidia"
                ]
              },
              "id": "75d3f867966c42bb846c44bc8bb79ccf"
            }
          },
          "metadata": {}
        }
      ]
    },
    {
      "cell_type": "code",
      "execution_count": 1,
      "metadata": {
        "colab": {
          "base_uri": "https://localhost:8080/"
        },
        "id": "1oFcQ7iY3y-p",
        "outputId": "ecca83b3-d6ed-464f-f5ae-554b165cbb53"
      },
      "outputs": [
        {
          "output_type": "stream",
          "name": "stderr",
          "text": [
            "[nltk_data] Downloading package punkt_tab to /root/nltk_data...\n",
            "[nltk_data]   Package punkt_tab is already up-to-date!\n"
          ]
        },
        {
          "output_type": "execute_result",
          "data": {
            "text/plain": [
              "True"
            ]
          },
          "metadata": {},
          "execution_count": 1
        }
      ],
      "source": [
        "# Import necessary libraries\n",
        "\n",
        "import json\n",
        "import joblib\n",
        "from collections import defaultdict\n",
        "from sentence_transformers import SentenceTransformer\n",
        "import numpy as np\n",
        "import faiss\n",
        "import scipy.sparse\n",
        "\n",
        "from sklearn.feature_extraction.text import TfidfVectorizer\n",
        "from sklearn.metrics.pairwise import cosine_similarity\n",
        "\n",
        "\n",
        "import nltk\n",
        "from nltk.tokenize import word_tokenize\n",
        "\n",
        "nltk.download('punkt_tab')"
      ]
    },
    {
      "cell_type": "code",
      "source": [
        "from google.colab import drive\n",
        "drive.mount('/content/drive', force_remount=True)"
      ],
      "metadata": {
        "colab": {
          "base_uri": "https://localhost:8080/"
        },
        "id": "sYSkBlFe31GK",
        "outputId": "37b384c4-af3d-4b4d-ccd2-5c359e515b4b"
      },
      "execution_count": 2,
      "outputs": [
        {
          "output_type": "stream",
          "name": "stdout",
          "text": [
            "Mounted at /content/drive\n"
          ]
        }
      ]
    },
    {
      "cell_type": "code",
      "source": [
        "import requests\n",
        "url = 'https://northeastern-my.sharepoint.com/personal/mhatre_ag_northeastern_edu/_layouts/15/download.aspx?UniqueId=3e78d9923545475397681c5e8a47383d&e=gTeFhD'\n",
        "r = requests.get(url, allow_redirects=True)\n",
        "url1 = 'https://northeastern-my.sharepoint.com/personal/mhatre_ag_northeastern_edu/_layouts/15/download.aspx?UniqueId=a6e25a75d96e42139fc5b23ba7a7bc1b&e=S9FI43'\n",
        "r = requests.get(url1, allow_redirects=True)"
      ],
      "metadata": {
        "id": "jSdy0HSR3W0F"
      },
      "execution_count": 3,
      "outputs": []
    },
    {
      "cell_type": "markdown",
      "metadata": {
        "id": "EYyEQXug3y-r"
      },
      "source": [
        "## Step 1: Join business dataset with reviews dataset. Tokenize reviews and convert to lowercase"
      ]
    },
    {
      "cell_type": "code",
      "execution_count": 4,
      "metadata": {
        "id": "QPaKCoQS3y-r"
      },
      "outputs": [],
      "source": [
        "# Store reviews for each business\n",
        "import random\n",
        "business_information = defaultdict(lambda: {\"reviews\": []})\n",
        "\n",
        "with open(\"/content/drive/MyDrive/yelp_academic_dataset_review.json\", \"r\", encoding=\"utf-8\") as file:\n",
        "    for line in file:\n",
        "        # Keep only 10% of the lines\n",
        "        if random.random() <= 0.10:\n",
        "            curr = json.loads(line)\n",
        "            business_information[curr[\"business_id\"]][\"reviews\"].append(curr[\"text\"])"
      ]
    },
    {
      "cell_type": "code",
      "execution_count": 5,
      "metadata": {
        "id": "czkX5Yza3y-r"
      },
      "outputs": [],
      "source": [
        "# Extract business-specific data and store in dictionary\n",
        "with open(\"/content/drive/MyDrive/yelp_academic_dataset_business.json\", \"r\", encoding=\"utf-8\") as file:\n",
        "\n",
        "    for line in file:\n",
        "\n",
        "        curr = json.loads(line)\n",
        "        business_information[curr[\"business_id\"]][\"name\"] = curr[\"name\"]\n",
        "        business_information[curr[\"business_id\"]][\"address\"] = curr[\"address\"]\n",
        "        business_information[curr[\"business_id\"]][\"city\"] = curr[\"city\"]\n",
        "        business_information[curr[\"business_id\"]][\"state\"] = curr[\"state\"]\n",
        "        business_information[curr[\"business_id\"]][\"latitude\"] = curr[\"latitude\"]\n",
        "        business_information[curr[\"business_id\"]][\"longitude\"] = curr[\"longitude\"]\n",
        "        business_information[curr[\"business_id\"]][\"stars\"] = curr[\"stars\"]\n",
        "        business_information[curr[\"business_id\"]][\"categories\"] = curr[\"categories\"]"
      ]
    },
    {
      "cell_type": "code",
      "execution_count": 6,
      "metadata": {
        "id": "cP9sfsu53y-r"
      },
      "outputs": [],
      "source": [
        "# Tokenize reviews and convert all tokens to lowercase\n",
        "tokenized_business_information = defaultdict(lambda: {\"reviews\": []})\n",
        "\n",
        "for id_ in business_information.keys():\n",
        "\n",
        "    for review in business_information[id_][\"reviews\"]:\n",
        "\n",
        "      if random.random() <= 0.10:\n",
        "\n",
        "        tokenized_business_information[id_][\"reviews\"].append([word.lower() for word in word_tokenize(review)])"
      ]
    },
    {
      "cell_type": "code",
      "execution_count": 7,
      "metadata": {
        "id": "dvdqfEQH3y-r"
      },
      "outputs": [],
      "source": [
        "# Write joined, tokenized business/review data to a file\n",
        "with open('business_with_reviews.json', 'w') as f:\n",
        "    for key, value in tokenized_business_information.items():\n",
        "        json.dump({key: value}, f)\n",
        "        f.write('\\n')"
      ]
    },
    {
      "cell_type": "markdown",
      "source": [
        "## B+\n",
        "\n",
        "2 Problems:\n",
        "1. Can't extract user lat or lon\n",
        "2. Have to hardcode every bordering state"
      ],
      "metadata": {
        "id": "iFWnIi-QAjjC"
      }
    },
    {
      "cell_type": "code",
      "source": [
        "user_state = \"CA\"\n",
        "user_lat = 37.77   # San Francisco\n",
        "user_lon = -122.42\n",
        "# Hardcode every brodering state\n",
        "bordering_states = {\n",
        "    'AL': ['FL', 'GA', 'MS', 'TN'],\n",
        "    'AK': [],\n",
        "    'AZ': ['CA', 'CO', 'NM', 'NV', 'UT'],\n",
        "    'AR': ['LA', 'MO', 'MS', 'OK', 'TN', 'TX'],\n",
        "    'CA': ['AZ', 'NV', 'OR'],\n",
        "    'CO': ['AZ', 'KS', 'NE', 'NM', 'OK', 'UT', 'WY'],\n",
        "    'CT': ['MA', 'NY', 'RI'],\n",
        "    'DE': ['MD', 'NJ', 'PA'],\n",
        "    'FL': ['AL', 'GA'],\n",
        "    'GA': ['AL', 'FL', 'NC', 'SC', 'TN'],\n",
        "    'HI': [],\n",
        "    'ID': ['MT', 'NV', 'OR', 'UT', 'WA', 'WY'],\n",
        "    'IL': ['IA', 'IN', 'KY', 'MO', 'WI'],\n",
        "    'IN': ['IL', 'KY', 'MI', 'OH'],\n",
        "    'IA': ['IL', 'MN', 'MO', 'NE', 'SD', 'WI'],\n",
        "    'KS': ['CO', 'MO', 'NE', 'OK'],\n",
        "    'KY': ['IL', 'IN', 'MO', 'OH', 'TN', 'VA', 'WV'],\n",
        "    'LA': ['AR', 'MS', 'TX'],\n",
        "    'ME': ['NH'],\n",
        "    'MD': ['DE', 'PA', 'VA', 'WV'],\n",
        "    'MA': ['CT', 'NH', 'NY', 'RI', 'VT'],\n",
        "    'MI': ['IN', 'OH', 'WI'],\n",
        "    'MN': ['IA', 'ND', 'SD', 'WI'],\n",
        "    'MS': ['AL', 'AR', 'LA', 'TN'],\n",
        "    'MO': ['AR', 'IA', 'IL', 'KS', 'KY', 'NE', 'OK', 'TN'],\n",
        "    'MT': ['ID', 'ND', 'SD', 'WY'],\n",
        "    'NE': ['CO', 'IA', 'KS', 'MO', 'SD', 'WY'],\n",
        "    'NV': ['AZ', 'CA', 'ID', 'OR', 'UT'],\n",
        "    'NH': ['MA', 'ME', 'VT'],\n",
        "    'NJ': ['DE', 'NY', 'PA'],\n",
        "    'NM': ['AZ', 'CO', 'OK', 'TX', 'UT'],\n",
        "    'NY': ['CT', 'MA', 'NJ', 'PA', 'VT'],\n",
        "    'NC': ['GA', 'SC', 'TN', 'VA'],\n",
        "    'ND': ['MN', 'MT', 'SD'],\n",
        "    'OH': ['IN', 'KY', 'MI', 'PA', 'WV'],\n",
        "    'OK': ['AR', 'CO', 'KS', 'MO', 'NM', 'TX'],\n",
        "    'OR': ['CA', 'ID', 'NV', 'WA'],\n",
        "    'PA': ['DE', 'MD', 'NJ', 'NY', 'OH', 'WV'],\n",
        "    'RI': ['CT', 'MA'],\n",
        "    'SC': ['GA', 'NC'],\n",
        "    'SD': ['IA', 'MN', 'MT', 'ND', 'NE', 'WY'],\n",
        "    'TN': ['AL', 'AR', 'GA', 'KY', 'MO', 'MS', 'NC', 'VA'],\n",
        "    'TX': ['AR', 'LA', 'NM', 'OK'],\n",
        "    'UT': ['AZ', 'CO', 'ID', 'NV', 'NM', 'WY'],\n",
        "    'VT': ['MA', 'NH', 'NY'],\n",
        "    'VA': ['KY', 'MD', 'NC', 'TN', 'WV'],\n",
        "    'WA': ['ID', 'OR'],\n",
        "    'WV': ['KY', 'MD', 'OH', 'PA', 'VA'],\n",
        "    'WI': ['IA', 'IL', 'MI', 'MN'],\n",
        "    'WY': ['CO', 'ID', 'MT', 'NE', 'SD', 'UT']\n",
        "}"
      ],
      "metadata": {
        "id": "rm4DvwvJANco"
      },
      "execution_count": 40,
      "outputs": []
    },
    {
      "cell_type": "code",
      "source": [
        "from math import radians, cos, sin, asin, sqrt\n",
        "\n",
        "def haversine(lat1, lon1, lat2, lon2):\n",
        "    lat1, lon1, lat2, lon2 = map(radians, [lat1, lon1, lat2, lon2])\n",
        "    angle = sin((lat2 - lat1)/2)**2 + cos(lat1) * cos(lat2) * sin((lon2 - lon1)/2)**2\n",
        "    dist = 2 * asin(sqrt(angle))\n",
        "    return dist * 6371"
      ],
      "metadata": {
        "id": "a8e7q5IYAsZT"
      },
      "execution_count": 41,
      "outputs": []
    },
    {
      "cell_type": "code",
      "source": [
        "def extract_2nd(a):\n",
        "    return a[1]\n",
        "\n",
        "def rank_by_location(query, state_u, lat_u, lon_u):\n",
        "    restaurant_values = []\n",
        "    allowed_states = [state_u] + bordering_states.get(state_u, [])\n",
        "\n",
        "    for bid, info in business_information.items():\n",
        "        # Check if any info is empty\n",
        "        lat, lon = info.get(\"latitude\"), info.get(\"longitude\")\n",
        "        if lon is None or lat is None:\n",
        "            continue\n",
        "        if \"reviews\" not in info or not info[\"reviews\"]:\n",
        "            continue\n",
        "        # Check if the state is close, if not skip\n",
        "        if info.get(\"state\") not in allowed_states:\n",
        "            continue\n",
        "\n",
        "        distance = haversine(lat_u, lon_u, lat, lon)\n",
        "        value = info[\"stars\"]\n",
        "\n",
        "        # Find distance\n",
        "        if distance > 5:\n",
        "            # Only penalize the portion over 5km\n",
        "            value = value - 0.005 * (distance - 5)\n",
        "        restaurant_values.append((bid, value))\n",
        "\n",
        "    return sorted(restaurant_values, key=extract_2nd, reverse=True)[:10]"
      ],
      "metadata": {
        "id": "1bCw_s2gAuSl"
      },
      "execution_count": 44,
      "outputs": []
    },
    {
      "cell_type": "code",
      "source": [
        "results = rank_by_location(\"vegan\", user_state, user_lat, user_lon)\n",
        "\n",
        "for n, value in results:\n",
        "    name = business_information[n][\"name\"]\n",
        "    print(f\"{name} ({n}): score = {value:.2f}\")"
      ],
      "metadata": {
        "colab": {
          "base_uri": "https://localhost:8080/"
        },
        "id": "kG3c0qRAA11Q",
        "outputId": "2e43b625-76af-41a1-c883-28871b1e7c57"
      },
      "execution_count": 45,
      "outputs": [
        {
          "output_type": "stream",
          "name": "stdout",
          "text": [
            "Ferris Heating (z-he5WZr5Ekq-rA6AHgtqQ): score = 3.68\n",
            "Discount Window Coverings (tzvbWBUJJ2rPBJTo_OyTVw): score = 3.68\n",
            "Tributary Whitewater Tours (VMP_tCZXcuJuiNUCBshd8w): score = 3.67\n",
            "Eastside Deli (D5n8XvQqC_vzOCi63wNChQ): score = 3.67\n",
            "Raft California (_dLINFtHKdhescCZiPkPlA): score = 3.67\n",
            "Saturno Home Inspection (F4cezLy3xwbzCXG4lww74w): score = 3.66\n",
            "Tahoe Meadows (EUvK_xnJb_ZbMZ1T5uTBUQ): score = 3.64\n",
            "Sterling Detail (s9qQ2WAvlsckxabl4AEO4w): score = 3.62\n",
            "Elsa Boscarello Photography (luwAuq3yQtCFeFMxc3K-Ew): score = 3.62\n",
            "Lemaire Photography (E2L5Iu25tzkQ9ig-ZAqQ5Q): score = 3.62\n"
          ]
        }
      ]
    },
    {
      "cell_type": "markdown",
      "metadata": {
        "id": "lhr5P0EU3y-r"
      },
      "source": [
        "## Step 2: Output scores for TFIDF ranker"
      ]
    },
    {
      "cell_type": "code",
      "execution_count": 12,
      "metadata": {
        "id": "Vz8ZsKRG3y-r"
      },
      "outputs": [],
      "source": [
        "# Read in business reviews from JSON file\n",
        "business_reviews = dict()\n",
        "\n",
        "with open('business_with_reviews.json', 'r') as f:\n",
        "\n",
        "    for line in f:\n",
        "\n",
        "        record = json.loads(line)\n",
        "        business_reviews.update(record)"
      ]
    },
    {
      "cell_type": "code",
      "execution_count": 38,
      "metadata": {
        "id": "hE_xR_h13y-s"
      },
      "outputs": [],
      "source": [
        "# Test one query on the entire dataset, check results\n",
        "business_ids = list(business_reviews.keys())\n",
        "corpus = []\n",
        "for id_ in business_ids:\n",
        "\n",
        "    # Each business review is condensed down into a single, long sentence\n",
        "    # so that TFIDF and other embedding techniques could be applied\n",
        "    corpus.append(\" \".join(\" \".join(tokens) for tokens in business_reviews[id_][\"reviews\"]))"
      ]
    },
    {
      "cell_type": "code",
      "execution_count": 14,
      "metadata": {
        "id": "f4oVrwkS3y-s"
      },
      "outputs": [],
      "source": [
        "# Create TFIDF vector and train vectorizer\n",
        "vectorizer = TfidfVectorizer()\n",
        "tfidf_matrix = vectorizer.fit_transform(corpus)\n",
        "\n",
        "# Persist vector and model\n",
        "joblib.dump(vectorizer, 'tfidf_vectorizer.joblib')\n",
        "scipy.sparse.save_npz(\"tfidf_matrix.npz\", tfidf_matrix)"
      ]
    },
    {
      "cell_type": "code",
      "execution_count": 15,
      "metadata": {
        "id": "PDyhvKDC3y-s"
      },
      "outputs": [],
      "source": [
        "# Reinitialize vectorizer and tfidf_matrix if session is lost\n",
        "vectorizer = joblib.load('tfidf_vectorizer.joblib')\n",
        "tfidf_matrix = scipy.sparse.load_npz(\"tfidf_matrix.npz\")"
      ]
    },
    {
      "cell_type": "code",
      "execution_count": 16,
      "metadata": {
        "id": "EqLVb_wG3y-s"
      },
      "outputs": [],
      "source": [
        "# Transform query so that it fits into TFIDF vector space\n",
        "query = \"cafe with great lattes in san francisco\"\n",
        "query_vec = vectorizer.transform([query])\n",
        "\n",
        "# Use cosine similarity to find most similar document for the query\n",
        "similarities = cosine_similarity(query_vec, tfidf_matrix).flatten()"
      ]
    },
    {
      "cell_type": "code",
      "execution_count": 17,
      "metadata": {
        "id": "2bUjUFkV3y-s"
      },
      "outputs": [],
      "source": [
        "# Match up business ids with similarity scores\n",
        "scores = []\n",
        "\n",
        "n = len(business_ids)\n",
        "for i in range(n): scores.append((business_ids[i], similarities[i]))\n",
        "\n",
        "# Sort based on score; sort in descending order\n",
        "scores.sort(key = lambda x: x[1], reverse=True)"
      ]
    },
    {
      "cell_type": "code",
      "execution_count": 18,
      "metadata": {
        "id": "kb1UU0u33y-s",
        "colab": {
          "base_uri": "https://localhost:8080/"
        },
        "outputId": "a903cdbf-e523-4511-a893-8a5dedef52b0"
      },
      "outputs": [
        {
          "output_type": "stream",
          "name": "stdout",
          "text": [
            "Jiffy Lube\n",
            "Perks Coffee & Cafe\n",
            "Edible Arrangements\n",
            "Philter\n",
            "Envie Espresso Bar & Cafe\n",
            "De Ville Coffee House & Creperie\n",
            "Mitchell’s Coffee Time\n",
            "Delco's Original Steaks & Hoagies\n",
            "Crepe & Shake Cafe\n",
            "Discount Tire\n"
          ]
        }
      ],
      "source": [
        "# Print out top 10 results\n",
        "for id, _ in scores[:10]:\n",
        "\n",
        "    print(business_information[id][\"name\"])"
      ]
    },
    {
      "cell_type": "markdown",
      "metadata": {
        "id": "pgulBcJi3y-s"
      },
      "source": [
        "## Step 3: Create/Store Embeddings and Use FAISS to generate scores, Compare to token-matching ranker"
      ]
    },
    {
      "cell_type": "code",
      "source": [
        "!pip install torch"
      ],
      "metadata": {
        "colab": {
          "base_uri": "https://localhost:8080/"
        },
        "id": "C5Cu44hqqTNy",
        "outputId": "42417aa5-e9d3-48f5-8feb-fafa7cb9a2da"
      },
      "execution_count": 21,
      "outputs": [
        {
          "output_type": "stream",
          "name": "stdout",
          "text": [
            "Requirement already satisfied: torch in /usr/local/lib/python3.11/dist-packages (2.6.0+cu124)\n",
            "Requirement already satisfied: filelock in /usr/local/lib/python3.11/dist-packages (from torch) (3.18.0)\n",
            "Requirement already satisfied: typing-extensions>=4.10.0 in /usr/local/lib/python3.11/dist-packages (from torch) (4.13.2)\n",
            "Requirement already satisfied: networkx in /usr/local/lib/python3.11/dist-packages (from torch) (3.4.2)\n",
            "Requirement already satisfied: jinja2 in /usr/local/lib/python3.11/dist-packages (from torch) (3.1.6)\n",
            "Requirement already satisfied: fsspec in /usr/local/lib/python3.11/dist-packages (from torch) (2025.3.2)\n",
            "Requirement already satisfied: nvidia-cuda-nvrtc-cu12==12.4.127 in /usr/local/lib/python3.11/dist-packages (from torch) (12.4.127)\n",
            "Requirement already satisfied: nvidia-cuda-runtime-cu12==12.4.127 in /usr/local/lib/python3.11/dist-packages (from torch) (12.4.127)\n",
            "Requirement already satisfied: nvidia-cuda-cupti-cu12==12.4.127 in /usr/local/lib/python3.11/dist-packages (from torch) (12.4.127)\n",
            "Requirement already satisfied: nvidia-cudnn-cu12==9.1.0.70 in /usr/local/lib/python3.11/dist-packages (from torch) (9.1.0.70)\n",
            "Requirement already satisfied: nvidia-cublas-cu12==12.4.5.8 in /usr/local/lib/python3.11/dist-packages (from torch) (12.4.5.8)\n",
            "Requirement already satisfied: nvidia-cufft-cu12==11.2.1.3 in /usr/local/lib/python3.11/dist-packages (from torch) (11.2.1.3)\n",
            "Requirement already satisfied: nvidia-curand-cu12==10.3.5.147 in /usr/local/lib/python3.11/dist-packages (from torch) (10.3.5.147)\n",
            "Requirement already satisfied: nvidia-cusolver-cu12==11.6.1.9 in /usr/local/lib/python3.11/dist-packages (from torch) (11.6.1.9)\n",
            "Requirement already satisfied: nvidia-cusparse-cu12==12.3.1.170 in /usr/local/lib/python3.11/dist-packages (from torch) (12.3.1.170)\n",
            "Requirement already satisfied: nvidia-cusparselt-cu12==0.6.2 in /usr/local/lib/python3.11/dist-packages (from torch) (0.6.2)\n",
            "Requirement already satisfied: nvidia-nccl-cu12==2.21.5 in /usr/local/lib/python3.11/dist-packages (from torch) (2.21.5)\n",
            "Requirement already satisfied: nvidia-nvtx-cu12==12.4.127 in /usr/local/lib/python3.11/dist-packages (from torch) (12.4.127)\n",
            "Requirement already satisfied: nvidia-nvjitlink-cu12==12.4.127 in /usr/local/lib/python3.11/dist-packages (from torch) (12.4.127)\n",
            "Requirement already satisfied: triton==3.2.0 in /usr/local/lib/python3.11/dist-packages (from torch) (3.2.0)\n",
            "Requirement already satisfied: sympy==1.13.1 in /usr/local/lib/python3.11/dist-packages (from torch) (1.13.1)\n",
            "Requirement already satisfied: mpmath<1.4,>=1.1.0 in /usr/local/lib/python3.11/dist-packages (from sympy==1.13.1->torch) (1.3.0)\n",
            "Requirement already satisfied: MarkupSafe>=2.0 in /usr/local/lib/python3.11/dist-packages (from jinja2->torch) (3.0.2)\n"
          ]
        }
      ]
    },
    {
      "cell_type": "code",
      "source": [
        "import torch"
      ],
      "metadata": {
        "id": "5eqTsbpxqZC8"
      },
      "execution_count": 24,
      "outputs": []
    },
    {
      "cell_type": "code",
      "execution_count": 29,
      "metadata": {
        "id": "VT6Dgh1B3y-s",
        "colab": {
          "base_uri": "https://localhost:8080/",
          "height": 49,
          "referenced_widgets": [
            "f4fc34c726af460abb5481d1f9a22d87",
            "e03352bf91344ff3bb4a106b0bcf76cc",
            "4165fcd82385483aa39d15dcbb7c20c3",
            "ca4302d7d8634d5fb41b214a470d7e8d",
            "8f5d30b2519746ab93b62e89e5f1632e",
            "cc66bc0fe66a467b96ffda04603dafe5",
            "268c4b36ffa14e2ab093be8ac4db7646",
            "63492e4d7d234c1ba90d1a17738a698e",
            "089c98ba229d4f0b8f8d45427d488b3c",
            "748012c6146e4ed499c25ac09f0d74f8",
            "d858d5961e0a48b5ab28810a677ffbc4"
          ]
        },
        "outputId": "5b5c6835-cb5b-46f2-b005-9310d31e43f7"
      },
      "outputs": [
        {
          "output_type": "display_data",
          "data": {
            "text/plain": [
              "Batches:   0%|          | 0/24 [00:00<?, ?it/s]"
            ],
            "application/vnd.jupyter.widget-view+json": {
              "version_major": 2,
              "version_minor": 0,
              "model_id": "f4fc34c726af460abb5481d1f9a22d87"
            }
          },
          "metadata": {}
        }
      ],
      "source": [
        "# Use transformer architecture to create dense vector embeddings\n",
        "# from query and restaurant reviews\n",
        "# all = general purpose transformer\n",
        "# MiniLM = lightweight transformer similar to BERT\n",
        "# L6 = six layers\n",
        "# v2 = version two\n",
        "model = SentenceTransformer(\"all-MiniLM-L6-v2\")\n",
        "subset_corpus = random.sample(corpus, int(0.01 * len(corpus)))\n",
        "# Create embeddings from the reviews\n",
        "embeddings = model.encode(\n",
        "    subset_corpus,                      # List of documents\n",
        "    batch_size=16,               # Tune this value (16–64 for Colab/CPU)\n",
        "    convert_to_numpy=True,      # Needed for FAISS\n",
        "    show_progress_bar=True,     # See how long it takes\n",
        "    device='cuda' if torch.cuda.is_available() else 'cpu'  # Use GPU if available\n",
        ")\n",
        "\n",
        "dimension = embeddings.shape[1]\n",
        "\n",
        "# Create FAISS index for similarity search\n",
        "index = faiss.IndexFlatL2(dimension)\n",
        "index.add(embeddings)"
      ]
    },
    {
      "cell_type": "code",
      "execution_count": 30,
      "metadata": {
        "id": "vn899tTv3y-s"
      },
      "outputs": [],
      "source": [
        "# Persist index to file\n",
        "faiss.write_index(index, \"business_index.faiss\")"
      ]
    },
    {
      "cell_type": "code",
      "execution_count": 31,
      "metadata": {
        "id": "B5clJ_p93y-s"
      },
      "outputs": [],
      "source": [
        "# Read index back from file if session is lost\n",
        "index = faiss.read_index(\"business_index.faiss\")"
      ]
    },
    {
      "cell_type": "code",
      "execution_count": 32,
      "metadata": {
        "id": "f9wVXdpc3y-s",
        "colab": {
          "base_uri": "https://localhost:8080/"
        },
        "outputId": "30bd42ed-41f5-4ab4-de6c-84a689ea52e2"
      },
      "outputs": [
        {
          "output_type": "stream",
          "name": "stdout",
          "text": [
            "Mellow Mushroom - Brandon\n",
            "Chipotle Mexican Grill\n",
            "Surrey's Café & Juice Bar\n",
            "HipCityVeg - University City\n",
            "Penca\n",
            "Pizzeria Vetri\n",
            "Ninki\n",
            "Andrea's Restaurant\n",
            "DoubleTree by Hilton Hotel Philadelphia Center City\n",
            "Dairy Queen\n",
            "Hampton Inn St. Louis/Sunset Hills\n",
            "Hotel Mazarin\n",
            "Honey's Sit-N-Eat\n",
            "Dooners\n",
            "The Groomin Room\n",
            "Kimpton Hotel Monaco Philadelphia\n",
            "The Cake Bake Shop by Gwendolyn Rogers-Broad Ripple Village\n",
            "1 Tippling Place\n",
            "Copabanana\n",
            "Crazy Sushi\n",
            "China Kitchen\n",
            "Indique Virgin Hair Extensions\n",
            "Citizens Bank Park\n",
            "Cafe Beignet on Bourbon Street\n",
            "Bellagio Pizza & Subs\n",
            "Kettle Restaurant\n",
            "Roscoe's Tacos - Greenwood\n",
            "Tony's Luke\n",
            "Sushi Tyme\n",
            "National Underground\n",
            "Mahony's Po-Boys & Seafood\n",
            "Mayflower\n",
            "Layla's Honky Tonk\n",
            "Mena's Palace\n",
            "Bernie's Restaurant & Bar - Hatboro\n",
            "Gateway To India\n",
            "B2 Bluefin\n",
            "Cal Taco\n",
            "Mother Nature's Cupboard\n",
            "Tryst Gastro Lounge\n",
            "The Home Depot\n",
            "Boostin' Bowls\n",
            "Wheel Tec\n",
            "3500 Winehaus\n",
            "Sam's Beach Bar\n",
            "Children's Hospital of Philadelphia\n",
            "Tampa Bay Brewing Company Westchase\n",
            "Ants Pants Café\n",
            "RumFish Grill\n",
            "Plush\n"
          ]
        }
      ],
      "source": [
        "# Check results of test query\n",
        "query = \"cafe with great lattes in san francisco\"\n",
        "query_vec = model.encode([query], convert_to_numpy=True)\n",
        "\n",
        "# Get top k results\n",
        "k = 50\n",
        "D, I = index.search(query_vec, k)\n",
        "top_businesses = [business_ids[i] for i in I[0]]\n",
        "\n",
        "for id in top_businesses:\n",
        "\n",
        "    print(business_information[id][\"name\"])"
      ]
    },
    {
      "cell_type": "markdown",
      "source": [
        "B+ with embeddings"
      ],
      "metadata": {
        "id": "7Xy005rzks9E"
      }
    },
    {
      "cell_type": "code",
      "source": [
        "from math import radians, cos, sin, asin, sqrt\n",
        "\n",
        "# Haversine to compute distance in kilometers\n",
        "def haversine(lat1, lon1, lat2, lon2):\n",
        "    lat1, lon1, lat2, lon2 = map(radians, [lat1, lon1, lat2, lon2])\n",
        "    angle = sin((lat2 - lat1)/2)**2 + cos(lat1) * cos(lat2) * sin((lon2 - lon1)/2)**2\n",
        "    dist = 2 * asin(sqrt(angle))\n",
        "    return dist * 6371\n",
        "\n",
        "# Extract sorting key\n",
        "def extract_2nd(a):\n",
        "    return a[1]\n",
        "\n",
        "# Your embedding-enhanced + location-aware ranker\n",
        "def rank_by_location_with_embeddings(query, state_u, lat_u, lon_u, model, index, business_ids, business_info):\n",
        "    allowed_states = [state_u] + bordering_states.get(state_u, [])\n",
        "\n",
        "    # Encode query with SentenceTransformer\n",
        "    query_vec = model.encode([query], convert_to_numpy=True)\n",
        "    _, I = index.search(query_vec, 100)\n",
        "    top_ids = [business_ids[i] for i in I[0]]\n",
        "\n",
        "    restaurant_values_embed = []\n",
        "    for bid in top_ids:\n",
        "        info = business_info.get(bid, {})\n",
        "        # Check if any info is empty\n",
        "        lat, lon = info.get(\"latitude\"), info.get(\"longitude\")\n",
        "        if not lat or not lon:\n",
        "            continue\n",
        "        if not info.get(\"reviews\"):\n",
        "            continue\n",
        "        # Check if the state is close, if not skip\n",
        "        if info.get(\"state\") not in allowed_states:\n",
        "            continue\n",
        "\n",
        "        # Find distance\n",
        "        distance = haversine(lat_u, lon_u, lat, lon)\n",
        "        value = info[\"stars\"]\n",
        "\n",
        "        if distance > 5:\n",
        "            # Only penalize the portion over 5km\n",
        "            value = value - 0.005 * (distance - 5)\n",
        "\n",
        "        restaurant_values_embed.append((bid, value))\n",
        "\n",
        "    return sorted(results, key=extract_2nd, reverse=True)[:10]"
      ],
      "metadata": {
        "id": "Rx9vqcnmktlO"
      },
      "execution_count": 54,
      "outputs": []
    },
    {
      "cell_type": "code",
      "source": [
        "# Example user location\n",
        "user_state = \"CA\"\n",
        "user_lat = 37.77\n",
        "user_lon = -122.42\n",
        "\n",
        "# Query and rank\n",
        "results = rank_by_location_with_embeddings(\n",
        "    \"vegan burger\", user_state, user_lat, user_lon,\n",
        "    model, index, business_ids, business_information\n",
        ")\n",
        "\n",
        "# Print top results\n",
        "for bid, score in results:\n",
        "    print(f\"{business_information[bid]['name']} ({bid}): score = {score:.2f}\")"
      ],
      "metadata": {
        "colab": {
          "base_uri": "https://localhost:8080/"
        },
        "id": "nY4bjdrvk8E0",
        "outputId": "ab9fd3f1-0235-47f8-e6b3-0815a7e7b1d1"
      },
      "execution_count": 55,
      "outputs": [
        {
          "output_type": "stream",
          "name": "stdout",
          "text": [
            "Cold Spring Tavern (0qu0fNTOsSmuREYVIMPuIQ): score = 2.38\n",
            "Santa Barbara County Courthouse (6JFTijOMHB46yBoyVOjPCA): score = 2.30\n",
            "Rickshaw Sushi (yqRF449dYddbt1bDg50J_Q): score = 2.04\n",
            "Western Village Inn and Casino (_E0WPHfJEYmwOUCAj-Jq1A): score = 2.00\n",
            "Cal Taco (VeFfrEZ4iWaecrQg6Eq4cg): score = 1.85\n",
            "West Beach Inn, a Coast Hotel (7j8rT3FZbXgL4k0DnXi2Mw): score = 1.79\n",
            "The Home Depot (41QlNQkkCVvmzOPSFFz1FA): score = 1.05\n",
            "Panda Express (UKA2eeAZmO4ACB2J0kFISw): score = 1.04\n",
            "Prep & Pastry (UCMSWPqzXjd7QHq7v8PJjQ): score = -1.53\n",
            "Sher-e-Punjab (f82dhKNiUXsDVPMLqKYiIQ): score = -2.02\n"
          ]
        }
      ]
    }
  ],
  "metadata": {
    "kernelspec": {
      "display_name": "Python 3",
      "language": "python",
      "name": "python3"
    },
    "language_info": {
      "codemirror_mode": {
        "name": "ipython",
        "version": 3
      },
      "file_extension": ".py",
      "mimetype": "text/x-python",
      "name": "python",
      "nbconvert_exporter": "python",
      "pygments_lexer": "ipython3",
      "version": "3.12.9"
    },
    "colab": {
      "provenance": []
    },
    "widgets": {
      "application/vnd.jupyter.widget-state+json": {
        "f4fc34c726af460abb5481d1f9a22d87": {
          "model_module": "@jupyter-widgets/controls",
          "model_name": "HBoxModel",
          "model_module_version": "1.5.0",
          "state": {
            "_dom_classes": [],
            "_model_module": "@jupyter-widgets/controls",
            "_model_module_version": "1.5.0",
            "_model_name": "HBoxModel",
            "_view_count": null,
            "_view_module": "@jupyter-widgets/controls",
            "_view_module_version": "1.5.0",
            "_view_name": "HBoxView",
            "box_style": "",
            "children": [
              "IPY_MODEL_e03352bf91344ff3bb4a106b0bcf76cc",
              "IPY_MODEL_4165fcd82385483aa39d15dcbb7c20c3",
              "IPY_MODEL_ca4302d7d8634d5fb41b214a470d7e8d"
            ],
            "layout": "IPY_MODEL_8f5d30b2519746ab93b62e89e5f1632e"
          }
        },
        "e03352bf91344ff3bb4a106b0bcf76cc": {
          "model_module": "@jupyter-widgets/controls",
          "model_name": "HTMLModel",
          "model_module_version": "1.5.0",
          "state": {
            "_dom_classes": [],
            "_model_module": "@jupyter-widgets/controls",
            "_model_module_version": "1.5.0",
            "_model_name": "HTMLModel",
            "_view_count": null,
            "_view_module": "@jupyter-widgets/controls",
            "_view_module_version": "1.5.0",
            "_view_name": "HTMLView",
            "description": "",
            "description_tooltip": null,
            "layout": "IPY_MODEL_cc66bc0fe66a467b96ffda04603dafe5",
            "placeholder": "​",
            "style": "IPY_MODEL_268c4b36ffa14e2ab093be8ac4db7646",
            "value": "Batches: 100%"
          }
        },
        "4165fcd82385483aa39d15dcbb7c20c3": {
          "model_module": "@jupyter-widgets/controls",
          "model_name": "FloatProgressModel",
          "model_module_version": "1.5.0",
          "state": {
            "_dom_classes": [],
            "_model_module": "@jupyter-widgets/controls",
            "_model_module_version": "1.5.0",
            "_model_name": "FloatProgressModel",
            "_view_count": null,
            "_view_module": "@jupyter-widgets/controls",
            "_view_module_version": "1.5.0",
            "_view_name": "ProgressView",
            "bar_style": "success",
            "description": "",
            "description_tooltip": null,
            "layout": "IPY_MODEL_63492e4d7d234c1ba90d1a17738a698e",
            "max": 24,
            "min": 0,
            "orientation": "horizontal",
            "style": "IPY_MODEL_089c98ba229d4f0b8f8d45427d488b3c",
            "value": 24
          }
        },
        "ca4302d7d8634d5fb41b214a470d7e8d": {
          "model_module": "@jupyter-widgets/controls",
          "model_name": "HTMLModel",
          "model_module_version": "1.5.0",
          "state": {
            "_dom_classes": [],
            "_model_module": "@jupyter-widgets/controls",
            "_model_module_version": "1.5.0",
            "_model_name": "HTMLModel",
            "_view_count": null,
            "_view_module": "@jupyter-widgets/controls",
            "_view_module_version": "1.5.0",
            "_view_name": "HTMLView",
            "description": "",
            "description_tooltip": null,
            "layout": "IPY_MODEL_748012c6146e4ed499c25ac09f0d74f8",
            "placeholder": "​",
            "style": "IPY_MODEL_d858d5961e0a48b5ab28810a677ffbc4",
            "value": " 24/24 [00:27&lt;00:00,  2.30it/s]"
          }
        },
        "8f5d30b2519746ab93b62e89e5f1632e": {
          "model_module": "@jupyter-widgets/base",
          "model_name": "LayoutModel",
          "model_module_version": "1.2.0",
          "state": {
            "_model_module": "@jupyter-widgets/base",
            "_model_module_version": "1.2.0",
            "_model_name": "LayoutModel",
            "_view_count": null,
            "_view_module": "@jupyter-widgets/base",
            "_view_module_version": "1.2.0",
            "_view_name": "LayoutView",
            "align_content": null,
            "align_items": null,
            "align_self": null,
            "border": null,
            "bottom": null,
            "display": null,
            "flex": null,
            "flex_flow": null,
            "grid_area": null,
            "grid_auto_columns": null,
            "grid_auto_flow": null,
            "grid_auto_rows": null,
            "grid_column": null,
            "grid_gap": null,
            "grid_row": null,
            "grid_template_areas": null,
            "grid_template_columns": null,
            "grid_template_rows": null,
            "height": null,
            "justify_content": null,
            "justify_items": null,
            "left": null,
            "margin": null,
            "max_height": null,
            "max_width": null,
            "min_height": null,
            "min_width": null,
            "object_fit": null,
            "object_position": null,
            "order": null,
            "overflow": null,
            "overflow_x": null,
            "overflow_y": null,
            "padding": null,
            "right": null,
            "top": null,
            "visibility": null,
            "width": null
          }
        },
        "cc66bc0fe66a467b96ffda04603dafe5": {
          "model_module": "@jupyter-widgets/base",
          "model_name": "LayoutModel",
          "model_module_version": "1.2.0",
          "state": {
            "_model_module": "@jupyter-widgets/base",
            "_model_module_version": "1.2.0",
            "_model_name": "LayoutModel",
            "_view_count": null,
            "_view_module": "@jupyter-widgets/base",
            "_view_module_version": "1.2.0",
            "_view_name": "LayoutView",
            "align_content": null,
            "align_items": null,
            "align_self": null,
            "border": null,
            "bottom": null,
            "display": null,
            "flex": null,
            "flex_flow": null,
            "grid_area": null,
            "grid_auto_columns": null,
            "grid_auto_flow": null,
            "grid_auto_rows": null,
            "grid_column": null,
            "grid_gap": null,
            "grid_row": null,
            "grid_template_areas": null,
            "grid_template_columns": null,
            "grid_template_rows": null,
            "height": null,
            "justify_content": null,
            "justify_items": null,
            "left": null,
            "margin": null,
            "max_height": null,
            "max_width": null,
            "min_height": null,
            "min_width": null,
            "object_fit": null,
            "object_position": null,
            "order": null,
            "overflow": null,
            "overflow_x": null,
            "overflow_y": null,
            "padding": null,
            "right": null,
            "top": null,
            "visibility": null,
            "width": null
          }
        },
        "268c4b36ffa14e2ab093be8ac4db7646": {
          "model_module": "@jupyter-widgets/controls",
          "model_name": "DescriptionStyleModel",
          "model_module_version": "1.5.0",
          "state": {
            "_model_module": "@jupyter-widgets/controls",
            "_model_module_version": "1.5.0",
            "_model_name": "DescriptionStyleModel",
            "_view_count": null,
            "_view_module": "@jupyter-widgets/base",
            "_view_module_version": "1.2.0",
            "_view_name": "StyleView",
            "description_width": ""
          }
        },
        "63492e4d7d234c1ba90d1a17738a698e": {
          "model_module": "@jupyter-widgets/base",
          "model_name": "LayoutModel",
          "model_module_version": "1.2.0",
          "state": {
            "_model_module": "@jupyter-widgets/base",
            "_model_module_version": "1.2.0",
            "_model_name": "LayoutModel",
            "_view_count": null,
            "_view_module": "@jupyter-widgets/base",
            "_view_module_version": "1.2.0",
            "_view_name": "LayoutView",
            "align_content": null,
            "align_items": null,
            "align_self": null,
            "border": null,
            "bottom": null,
            "display": null,
            "flex": null,
            "flex_flow": null,
            "grid_area": null,
            "grid_auto_columns": null,
            "grid_auto_flow": null,
            "grid_auto_rows": null,
            "grid_column": null,
            "grid_gap": null,
            "grid_row": null,
            "grid_template_areas": null,
            "grid_template_columns": null,
            "grid_template_rows": null,
            "height": null,
            "justify_content": null,
            "justify_items": null,
            "left": null,
            "margin": null,
            "max_height": null,
            "max_width": null,
            "min_height": null,
            "min_width": null,
            "object_fit": null,
            "object_position": null,
            "order": null,
            "overflow": null,
            "overflow_x": null,
            "overflow_y": null,
            "padding": null,
            "right": null,
            "top": null,
            "visibility": null,
            "width": null
          }
        },
        "089c98ba229d4f0b8f8d45427d488b3c": {
          "model_module": "@jupyter-widgets/controls",
          "model_name": "ProgressStyleModel",
          "model_module_version": "1.5.0",
          "state": {
            "_model_module": "@jupyter-widgets/controls",
            "_model_module_version": "1.5.0",
            "_model_name": "ProgressStyleModel",
            "_view_count": null,
            "_view_module": "@jupyter-widgets/base",
            "_view_module_version": "1.2.0",
            "_view_name": "StyleView",
            "bar_color": null,
            "description_width": ""
          }
        },
        "748012c6146e4ed499c25ac09f0d74f8": {
          "model_module": "@jupyter-widgets/base",
          "model_name": "LayoutModel",
          "model_module_version": "1.2.0",
          "state": {
            "_model_module": "@jupyter-widgets/base",
            "_model_module_version": "1.2.0",
            "_model_name": "LayoutModel",
            "_view_count": null,
            "_view_module": "@jupyter-widgets/base",
            "_view_module_version": "1.2.0",
            "_view_name": "LayoutView",
            "align_content": null,
            "align_items": null,
            "align_self": null,
            "border": null,
            "bottom": null,
            "display": null,
            "flex": null,
            "flex_flow": null,
            "grid_area": null,
            "grid_auto_columns": null,
            "grid_auto_flow": null,
            "grid_auto_rows": null,
            "grid_column": null,
            "grid_gap": null,
            "grid_row": null,
            "grid_template_areas": null,
            "grid_template_columns": null,
            "grid_template_rows": null,
            "height": null,
            "justify_content": null,
            "justify_items": null,
            "left": null,
            "margin": null,
            "max_height": null,
            "max_width": null,
            "min_height": null,
            "min_width": null,
            "object_fit": null,
            "object_position": null,
            "order": null,
            "overflow": null,
            "overflow_x": null,
            "overflow_y": null,
            "padding": null,
            "right": null,
            "top": null,
            "visibility": null,
            "width": null
          }
        },
        "d858d5961e0a48b5ab28810a677ffbc4": {
          "model_module": "@jupyter-widgets/controls",
          "model_name": "DescriptionStyleModel",
          "model_module_version": "1.5.0",
          "state": {
            "_model_module": "@jupyter-widgets/controls",
            "_model_module_version": "1.5.0",
            "_model_name": "DescriptionStyleModel",
            "_view_count": null,
            "_view_module": "@jupyter-widgets/base",
            "_view_module_version": "1.2.0",
            "_view_name": "StyleView",
            "description_width": ""
          }
        }
      }
    }
  },
  "nbformat": 4,
  "nbformat_minor": 0
}